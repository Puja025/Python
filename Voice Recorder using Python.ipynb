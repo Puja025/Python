{
 "cells": [
  {
   "cell_type": "code",
   "execution_count": 1,
   "id": "b631dc10",
   "metadata": {},
   "outputs": [
    {
     "name": "stdout",
     "output_type": "stream",
     "text": [
      "Requirement already satisfied: sounddevice in c:\\users\\pralo\\appdata\\roaming\\python\\python39\\site-packages (0.4.6)\n",
      "Requirement already satisfied: CFFI>=1.0 in c:\\users\\pralo\\anaconda3\\lib\\site-packages (from sounddevice) (1.14.6)\n",
      "Requirement already satisfied: pycparser in c:\\users\\pralo\\anaconda3\\lib\\site-packages (from CFFI>=1.0->sounddevice) (2.20)\n",
      "Note: you may need to restart the kernel to use updated packages.\n"
     ]
    }
   ],
   "source": [
    "pip install sounddevice --user"
   ]
  },
  {
   "cell_type": "code",
   "execution_count": 2,
   "id": "bcbe0021",
   "metadata": {},
   "outputs": [],
   "source": [
    "import sounddevice\n",
    "from scipy.io.wavfile import write"
   ]
  },
  {
   "cell_type": "code",
   "execution_count": 3,
   "id": "aa9d1b97",
   "metadata": {},
   "outputs": [
    {
     "name": "stdout",
     "output_type": "stream",
     "text": [
      "Recording Started…\n",
      "Recording Finished\n"
     ]
    }
   ],
   "source": [
    "def voice_recorder(seconds, file):\n",
    "    print(\"Recording Started…\")\n",
    "    recording = sounddevice.rec((seconds * 44100), samplerate= 44100, channels=2)\n",
    "    sounddevice.wait()\n",
    "    write(file, 44100, recording)\n",
    "    print(\"Recording Finished\")\n",
    "\n",
    "voice_recorder(10, \"record.wav\")"
   ]
  },
  {
   "cell_type": "code",
   "execution_count": null,
   "id": "63e5165b",
   "metadata": {},
   "outputs": [],
   "source": []
  }
 ],
 "metadata": {
  "kernelspec": {
   "display_name": "Python 3 (ipykernel)",
   "language": "python",
   "name": "python3"
  },
  "language_info": {
   "codemirror_mode": {
    "name": "ipython",
    "version": 3
   },
   "file_extension": ".py",
   "mimetype": "text/x-python",
   "name": "python",
   "nbconvert_exporter": "python",
   "pygments_lexer": "ipython3",
   "version": "3.9.7"
  }
 },
 "nbformat": 4,
 "nbformat_minor": 5
}
