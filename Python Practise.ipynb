{
  "cells": [
    {
      "cell_type": "markdown",
      "metadata": {
        "id": "view-in-github",
        "colab_type": "text"
      },
      "source": [
        "<a href=\"https://colab.research.google.com/github/Puja025/Python/blob/main/Python%20Practise.ipynb\" target=\"_parent\"><img src=\"https://colab.research.google.com/assets/colab-badge.svg\" alt=\"Open In Colab\"/></a>"
      ]
    },
    {
      "cell_type": "markdown",
      "id": "105bbd54-54ce-42ce-8c45-481c6f94bb97",
      "metadata": {
        "tags": [],
        "id": "105bbd54-54ce-42ce-8c45-481c6f94bb97"
      },
      "source": [
        "#### 1. print() function"
      ]
    },
    {
      "cell_type": "markdown",
      "id": "b869cebd-1073-4ef9-a31c-90b74a5dd7ae",
      "metadata": {
        "tags": [],
        "id": "b869cebd-1073-4ef9-a31c-90b74a5dd7ae"
      },
      "source": [
        "A) Let's start with a long time programming tradition and print \"Hello World!\" by typing it inside print() function."
      ]
    },
    {
      "cell_type": "code",
      "execution_count": null,
      "id": "10faad5e-8be7-4e32-942d-429a93cdaa30",
      "metadata": {
        "tags": [],
        "id": "10faad5e-8be7-4e32-942d-429a93cdaa30",
        "outputId": "514a9b7f-a20d-45e4-92d8-7cba874be1f1"
      },
      "outputs": [
        {
          "name": "stdout",
          "output_type": "stream",
          "text": [
            "Hello World!\n"
          ]
        }
      ],
      "source": [
        "print(\"Hello World!\")"
      ]
    },
    {
      "cell_type": "markdown",
      "id": "3315a729-6a85-4738-826f-864f54f1b36e",
      "metadata": {
        "id": "3315a729-6a85-4738-826f-864f54f1b36e"
      },
      "source": [
        "B) Now try to assign \"Hello World!\" to the variable my_text."
      ]
    },
    {
      "cell_type": "code",
      "execution_count": null,
      "id": "4e335218-35eb-4cc0-a23d-799ca757156b",
      "metadata": {
        "tags": [],
        "id": "4e335218-35eb-4cc0-a23d-799ca757156b",
        "outputId": "7d63aa20-d939-418b-99a4-a3f96a4ffff3"
      },
      "outputs": [
        {
          "name": "stdout",
          "output_type": "stream",
          "text": [
            "Hello World!\n"
          ]
        }
      ],
      "source": [
        "my_text=\"Hello World!\"\n",
        "print(my_text)"
      ]
    },
    {
      "cell_type": "markdown",
      "id": "9d4ea981-5441-4e3b-959d-f0d6533b6ff5",
      "metadata": {
        "id": "9d4ea981-5441-4e3b-959d-f0d6533b6ff5"
      },
      "source": [
        "C) Type a couple of different values inside the print function. Make sure they are separated by commas."
      ]
    },
    {
      "cell_type": "code",
      "execution_count": null,
      "id": "f20f0f60-26fb-4251-a685-182c8c3c1bb0",
      "metadata": {
        "id": "f20f0f60-26fb-4251-a685-182c8c3c1bb0",
        "outputId": "8d946de4-f090-4ecf-a5dd-2cab33215a51"
      },
      "outputs": [
        {
          "name": "stdout",
          "output_type": "stream",
          "text": [
            "SpaceX Blue Origin Sierra Nevada\n"
          ]
        }
      ],
      "source": [
        "print(\"SpaceX\", \"Blue Origin\", \"Sierra Nevada\")"
      ]
    },
    {
      "cell_type": "markdown",
      "id": "268a5365-c615-442c-8a63-f779bb47b5b0",
      "metadata": {
        "tags": [],
        "id": "268a5365-c615-442c-8a63-f779bb47b5b0"
      },
      "source": [
        "#### 2. Variables"
      ]
    },
    {
      "cell_type": "markdown",
      "id": "9db778d9-a004-4231-a71a-1e8731170b9c",
      "metadata": {
        "id": "9db778d9-a004-4231-a71a-1e8731170b9c"
      },
      "source": [
        "A) Below is a good example of mixing numbers and text inside the print() function. Assign a number to the variable: glass_of_water"
      ]
    },
    {
      "cell_type": "code",
      "execution_count": null,
      "id": "05ceded4-ed69-48f6-a936-d1bc65347614",
      "metadata": {
        "id": "05ceded4-ed69-48f6-a936-d1bc65347614",
        "outputId": "d8d3237f-5cef-40cd-d22d-4dacaed95c30"
      },
      "outputs": [
        {
          "name": "stdout",
          "output_type": "stream",
          "text": [
            "I drank 3 glasses of water today.\n"
          ]
        }
      ],
      "source": [
        "glass_of_water=3\n",
        "print(\"I drank\", glass_of_water, \"glasses of water today.\")"
      ]
    },
    {
      "cell_type": "markdown",
      "id": "c345cb1b-5880-4b3a-9ab1-dce5650165c2",
      "metadata": {
        "id": "c345cb1b-5880-4b3a-9ab1-dce5650165c2"
      },
      "source": [
        "B) Let's try to see what happens after assigning a new value to our variable. Note that program gets executed line by line. Print out the variable. What do you expect?"
      ]
    },
    {
      "cell_type": "code",
      "execution_count": null,
      "id": "1c5559b7-b365-443c-b00d-bdad574d1953",
      "metadata": {
        "id": "1c5559b7-b365-443c-b00d-bdad574d1953",
        "outputId": "11a96357-1123-412a-a1ea-6711b549c8f3"
      },
      "outputs": [
        {
          "name": "stdout",
          "output_type": "stream",
          "text": [
            "4\n"
          ]
        }
      ],
      "source": [
        "#Fill the print function so it prints glass_of_water\n",
        "glass_of_water=3\n",
        "glass_of_water=glass_of_water + 1\n",
        "print(glass_of_water)"
      ]
    },
    {
      "cell_type": "markdown",
      "id": "ca370226-be3d-4071-b88e-da86cdfcc94f",
      "metadata": {
        "tags": [],
        "id": "ca370226-be3d-4071-b88e-da86cdfcc94f"
      },
      "source": [
        "#### 3. Data Types"
      ]
    },
    {
      "cell_type": "markdown",
      "id": "638bd2e6-6f1f-47fb-9ec6-b9b76b3d1091",
      "metadata": {
        "id": "638bd2e6-6f1f-47fb-9ec6-b9b76b3d1091"
      },
      "source": [
        "A) Let's check out a simple integer example. Assign an integer to the variable, then print it."
      ]
    },
    {
      "cell_type": "code",
      "execution_count": null,
      "id": "939ffb26-7fa8-4961-8d0e-6646cb8aae6c",
      "metadata": {
        "id": "939ffb26-7fa8-4961-8d0e-6646cb8aae6c",
        "outputId": "50afffdd-ee7c-4241-fd86-f22a8028bcb3"
      },
      "outputs": [
        {
          "name": "stdout",
          "output_type": "stream",
          "text": [
            "12\n"
          ]
        }
      ],
      "source": [
        "men_stepped_on_the_moon=12\n",
        "print(men_stepped_on_the_moon)"
      ]
    },
    {
      "cell_type": "markdown",
      "id": "7866bbba-640c-4847-8bd6-9e1efa931448",
      "metadata": {
        "id": "7866bbba-640c-4847-8bd6-9e1efa931448"
      },
      "source": [
        "B) Now a string example. Type a couple of words or a short sentence for your variable, then print it."
      ]
    },
    {
      "cell_type": "code",
      "execution_count": null,
      "id": "5000731a-def0-4eb9-8942-cfbed47cf9aa",
      "metadata": {
        "id": "5000731a-def0-4eb9-8942-cfbed47cf9aa",
        "outputId": "4099ec9d-319b-467b-e8b5-87e80f0280a9"
      },
      "outputs": [
        {
          "name": "stdout",
          "output_type": "stream",
          "text": [
            "Programming robots.\n"
          ]
        }
      ],
      "source": [
        "my_reason_for_coding=\"Programming robots.\"\n",
        "print(my_reason_for_coding)"
      ]
    },
    {
      "cell_type": "markdown",
      "id": "776ba0c0-8895-41f3-9592-0dd88c8987b1",
      "metadata": {
        "id": "776ba0c0-8895-41f3-9592-0dd88c8987b1"
      },
      "source": [
        "C) Let's try to see what happens after assigning a new value to our variable. Overwrite the sea level with the correct value of 21.36. Note that program gets executed line by line."
      ]
    },
    {
      "cell_type": "code",
      "execution_count": null,
      "id": "cadc7497-c129-4d16-8faf-6bc9e5c189b0",
      "metadata": {
        "id": "cadc7497-c129-4d16-8faf-6bc9e5c189b0",
        "outputId": "bfc1ee03-a790-49b4-a87b-48be9bac4ff4"
      },
      "outputs": [
        {
          "name": "stdout",
          "output_type": "stream",
          "text": [
            "21.36\n"
          ]
        }
      ],
      "source": [
        "global_mean_sea_level_2018=21\n",
        "global_mean_sea_level_2018=21.36\n",
        "print(global_mean_sea_level_2018)"
      ]
    },
    {
      "cell_type": "markdown",
      "id": "dc3245dd-74e0-4587-bdd9-7ae38a6e8d89",
      "metadata": {
        "id": "dc3245dd-74e0-4587-bdd9-7ae38a6e8d89"
      },
      "source": [
        "D) Finally a boolean example. Assign True or False."
      ]
    },
    {
      "cell_type": "code",
      "execution_count": null,
      "id": "a22911e2-30b3-4893-b8a2-acdd60e4e0e8",
      "metadata": {
        "id": "a22911e2-30b3-4893-b8a2-acdd60e4e0e8",
        "outputId": "65d938d6-ac53-4aef-8f4b-c378d43749bf"
      },
      "outputs": [
        {
          "name": "stdout",
          "output_type": "stream",
          "text": [
            "True\n"
          ]
        }
      ],
      "source": [
        "staying_alive=True\n",
        "print(staying_alive)"
      ]
    },
    {
      "cell_type": "markdown",
      "id": "62d8155d-286b-4011-b83d-8f715cf30cf1",
      "metadata": {
        "tags": [],
        "id": "62d8155d-286b-4011-b83d-8f715cf30cf1"
      },
      "source": [
        "#### 4. Type Conversion"
      ]
    },
    {
      "cell_type": "markdown",
      "id": "3b878b5c-5a1a-4acc-a8ba-5ed86066808f",
      "metadata": {
        "id": "3b878b5c-5a1a-4acc-a8ba-5ed86066808f"
      },
      "source": [
        "A) Using type() function assign the type of the variable to answer_1, then print it."
      ]
    },
    {
      "cell_type": "code",
      "execution_count": null,
      "id": "15fb387f-94f7-439e-8aaf-8ed47575812e",
      "metadata": {
        "id": "15fb387f-94f7-439e-8aaf-8ed47575812e",
        "outputId": "a6071e99-4585-447f-9469-0013a20f59ea"
      },
      "outputs": [
        {
          "name": "stdout",
          "output_type": "stream",
          "text": [
            "<class 'int'>\n"
          ]
        }
      ],
      "source": [
        "men_stepped_on_the_moon=12\n",
        "answer_1=type(men_stepped_on_the_moon)\n",
        "print(answer_1)"
      ]
    },
    {
      "cell_type": "markdown",
      "id": "1fde2fb9-bf3f-4af4-a75a-da938f1b85d7",
      "metadata": {
        "id": "1fde2fb9-bf3f-4af4-a75a-da938f1b85d7"
      },
      "source": [
        "B) Using type() function assign the type of the variable to answer_2, then print it."
      ]
    },
    {
      "cell_type": "code",
      "execution_count": null,
      "id": "8742cc64-e915-43c1-85f8-f79c4f7cfc0b",
      "metadata": {
        "id": "8742cc64-e915-43c1-85f8-f79c4f7cfc0b",
        "outputId": "4dd709d8-a826-4b7d-a34a-57ffe16ee738"
      },
      "outputs": [
        {
          "name": "stdout",
          "output_type": "stream",
          "text": [
            "<class 'str'>\n"
          ]
        }
      ],
      "source": [
        "my_reason_for_coding=\"intergalactic travel\"\n",
        "answer_2=type(my_reason_for_coding)\n",
        "print (answer_2)"
      ]
    },
    {
      "cell_type": "markdown",
      "id": "1ec0ef8b-765a-4dde-9fad-72adef13adab",
      "metadata": {
        "id": "1ec0ef8b-765a-4dde-9fad-72adef13adab"
      },
      "source": [
        "C) Using type() function assign the type of the variable to answer_3, then print it."
      ]
    },
    {
      "cell_type": "code",
      "execution_count": null,
      "id": "1b4cf845-df74-4d08-86cd-96b79afad2ed",
      "metadata": {
        "id": "1b4cf845-df74-4d08-86cd-96b79afad2ed",
        "outputId": "90b75cff-031a-4e90-c68f-29dc972d8578"
      },
      "outputs": [
        {
          "name": "stdout",
          "output_type": "stream",
          "text": [
            "<class 'float'>\n"
          ]
        }
      ],
      "source": [
        "global_mean_sea_level_delta_2018=21.36\n",
        "answer_3=type(global_mean_sea_level_delta_2018)\n",
        "print(answer_3)"
      ]
    },
    {
      "cell_type": "markdown",
      "id": "bb362120-4b2a-44af-ba80-d9c0cb002d2a",
      "metadata": {
        "id": "bb362120-4b2a-44af-ba80-d9c0cb002d2a"
      },
      "source": [
        "D) We will now print the type of boolean data. Later stages in programming, booleans become quite common."
      ]
    },
    {
      "cell_type": "code",
      "execution_count": null,
      "id": "9f577e7c-93a2-4dbf-81c8-c8c4137124d0",
      "metadata": {
        "id": "9f577e7c-93a2-4dbf-81c8-c8c4137124d0",
        "outputId": "71f031e2-1894-44bb-e952-82af5cbdaefb"
      },
      "outputs": [
        {
          "name": "stdout",
          "output_type": "stream",
          "text": [
            "<class 'bool'>\n"
          ]
        }
      ],
      "source": [
        "staying_alive=True\n",
        "answer_4=type(staying_alive)\n",
        "print(answer_4)"
      ]
    },
    {
      "cell_type": "markdown",
      "id": "b52e762d-87d2-4e11-84e7-ae5c4bec3c7f",
      "metadata": {
        "id": "b52e762d-87d2-4e11-84e7-ae5c4bec3c7f"
      },
      "source": [
        "E) Let's now try to convert a string into an integer. Hint: Google how to do the conversion in python!"
      ]
    },
    {
      "cell_type": "code",
      "execution_count": null,
      "id": "c301cac6-f089-47db-8112-3767316314be",
      "metadata": {
        "id": "c301cac6-f089-47db-8112-3767316314be",
        "outputId": "388369d6-47ea-4551-aad6-829dd9db53f3"
      },
      "outputs": [
        {
          "name": "stdout",
          "output_type": "stream",
          "text": [
            "10\n"
          ]
        }
      ],
      "source": [
        "my_grade=\"10\"\n",
        "answer_5=int(my_grade)\n",
        "print(answer_5)"
      ]
    },
    {
      "cell_type": "markdown",
      "id": "9cc342bf-ee63-4e49-954e-af8ccb754cd4",
      "metadata": {
        "id": "9cc342bf-ee63-4e49-954e-af8ccb754cd4"
      },
      "source": [
        "F) Can you convert a float into an integer."
      ]
    },
    {
      "cell_type": "code",
      "execution_count": null,
      "id": "12636013-0e3b-40d0-9d1f-d7dd07e223a0",
      "metadata": {
        "id": "12636013-0e3b-40d0-9d1f-d7dd07e223a0",
        "outputId": "763acd1a-6646-4127-c69a-1077c8bdc00d"
      },
      "outputs": [
        {
          "name": "stdout",
          "output_type": "stream",
          "text": [
            "97\n"
          ]
        }
      ],
      "source": [
        "my_temp=97.70\n",
        "answer_6=int(my_temp)\n",
        "print(answer_6)"
      ]
    },
    {
      "cell_type": "markdown",
      "id": "b0d6a5ef-e309-4810-a4d4-e8bccd9de425",
      "metadata": {
        "id": "b0d6a5ef-e309-4810-a4d4-e8bccd9de425"
      },
      "source": [
        "G) Now let's convert a string into a float."
      ]
    },
    {
      "cell_type": "code",
      "execution_count": null,
      "id": "d5f8a19f-69d4-4771-a009-4a53119382d8",
      "metadata": {
        "id": "d5f8a19f-69d4-4771-a009-4a53119382d8",
        "outputId": "08083040-2571-4997-f778-9065b2d20373"
      },
      "outputs": [
        {
          "name": "stdout",
          "output_type": "stream",
          "text": [
            "69.99\n"
          ]
        }
      ],
      "source": [
        "shoe_price=\"69.99\"\n",
        "answer_7=float(shoe_price)\n",
        "print(answer_7)"
      ]
    },
    {
      "cell_type": "markdown",
      "id": "e3328384-326d-48bb-bd79-bd7781fe84f5",
      "metadata": {
        "id": "e3328384-326d-48bb-bd79-bd7781fe84f5"
      },
      "source": [
        "H) Finally, str will help you convert a data into a string. GWP denotes the total economic activity created by the world population collectively in a year."
      ]
    },
    {
      "cell_type": "code",
      "execution_count": null,
      "id": "37b8aa62-187d-4177-a8dd-3b654dee03a4",
      "metadata": {
        "id": "37b8aa62-187d-4177-a8dd-3b654dee03a4",
        "outputId": "bf68100c-52fd-4126-c890-2296e1f15070"
      },
      "outputs": [
        {
          "name": "stdout",
          "output_type": "stream",
          "text": [
            "In 2018 gross product of the world (GWP) was 84.84 in trillion US dollars.\n"
          ]
        }
      ],
      "source": [
        "gross_world_product=84.84\n",
        "gwp_str=str(gross_world_product)\n",
        "answer_8=\"In 2018 gross product of the world (GWP) was \" + gwp_str + \" in trillion US dollars.\"\n",
        "print(answer_8)"
      ]
    },
    {
      "cell_type": "markdown",
      "id": "971b5217-7fd8-4e9d-9f53-83b802d68319",
      "metadata": {
        "tags": [],
        "id": "971b5217-7fd8-4e9d-9f53-83b802d68319"
      },
      "source": [
        "#### 5. Data Structures"
      ]
    },
    {
      "cell_type": "markdown",
      "id": "5a094d31-81b5-4793-afdd-dc98febf1e08",
      "metadata": {
        "id": "5a094d31-81b5-4793-afdd-dc98febf1e08"
      },
      "source": [
        "A) Let's create an empty list and print its type. Create an empty list on and assign its type."
      ]
    },
    {
      "cell_type": "code",
      "execution_count": null,
      "id": "70e3242f-d7c6-4fa0-a6d8-a0dcda7b7ef7",
      "metadata": {
        "id": "70e3242f-d7c6-4fa0-a6d8-a0dcda7b7ef7",
        "outputId": "09ee67db-dc68-40ed-f4fa-ab79cd79c3a6"
      },
      "outputs": [
        {
          "name": "stdout",
          "output_type": "stream",
          "text": [
            "<class 'list'>\n"
          ]
        }
      ],
      "source": [
        "gift_list=[]\n",
        "answer_1=type(gift_list)\n",
        "print(answer_1)"
      ]
    },
    {
      "cell_type": "markdown",
      "id": "278bddc8-adc7-41a1-8462-2cd8e4cd12cc",
      "metadata": {
        "id": "278bddc8-adc7-41a1-8462-2cd8e4cd12cc"
      },
      "source": [
        "B) Now, we will create an empty dictionary and print its type. Create an empty dictionary and assign its type."
      ]
    },
    {
      "cell_type": "code",
      "execution_count": null,
      "id": "a34d2793-4201-4546-9d74-8de081974c22",
      "metadata": {
        "tags": [],
        "id": "a34d2793-4201-4546-9d74-8de081974c22",
        "outputId": "3e767c61-5671-4a9a-a177-47f0b844b987"
      },
      "outputs": [
        {
          "name": "stdout",
          "output_type": "stream",
          "text": [
            "<class 'dict'>\n"
          ]
        }
      ],
      "source": [
        "grocery_items={}\n",
        "answer_2=type(grocery_items)\n",
        "print(answer_2)"
      ]
    },
    {
      "cell_type": "markdown",
      "id": "0dd9ea6c-a97e-47fb-b03e-210701245fec",
      "metadata": {
        "id": "0dd9ea6c-a97e-47fb-b03e-210701245fec"
      },
      "source": [
        "C) Then we will create an empty tuple and print its type."
      ]
    },
    {
      "cell_type": "code",
      "execution_count": null,
      "id": "c45bbe9d-d2f0-4c57-a78b-27593e602bc6",
      "metadata": {
        "id": "c45bbe9d-d2f0-4c57-a78b-27593e602bc6",
        "outputId": "14b5cf5c-617c-4d83-db2e-8d4e5f90d765"
      },
      "outputs": [
        {
          "name": "stdout",
          "output_type": "stream",
          "text": [
            "<class 'tuple'>\n"
          ]
        }
      ],
      "source": [
        "bucket_list=()\n",
        "answer_2=type(bucket_list)\n",
        "print(answer_2)"
      ]
    },
    {
      "cell_type": "markdown",
      "id": "7f0ef11b-c32d-49c2-bb3b-434a5c51bab8",
      "metadata": {
        "id": "7f0ef11b-c32d-49c2-bb3b-434a5c51bab8"
      },
      "source": [
        "D) Let's create a list with values in it. Fill in the right side of equation so that gift_list is assigned to a list with values in it."
      ]
    },
    {
      "cell_type": "code",
      "execution_count": null,
      "id": "1ed6c05b-27d4-4b32-ad7e-28116291af40",
      "metadata": {
        "id": "1ed6c05b-27d4-4b32-ad7e-28116291af40",
        "outputId": "4e215f88-b33c-48aa-efb0-bf8267e527cf"
      },
      "outputs": [
        {
          "name": "stdout",
          "output_type": "stream",
          "text": [
            "['socks', '4K drone', 'wine', 'jam', 'pajamas']\n"
          ]
        }
      ],
      "source": [
        "gift_list=['socks', '4K drone', 'wine', 'jam', 'pajamas']\n",
        "print(gift_list)"
      ]
    },
    {
      "cell_type": "markdown",
      "id": "ff42f4ba-be8e-471a-a7ed-a13434a1324e",
      "metadata": {
        "id": "ff42f4ba-be8e-471a-a7ed-a13434a1324e"
      },
      "source": [
        "E) Now let's create a dictionary with values in it. Fill in the right side of equation so that grocery_list is assigned to a dictionary with values in it."
      ]
    },
    {
      "cell_type": "code",
      "execution_count": null,
      "id": "925b5ea7-bbe8-4d0f-83ae-8ee849413f68",
      "metadata": {
        "id": "925b5ea7-bbe8-4d0f-83ae-8ee849413f68",
        "outputId": "186bf3c0-3a8a-4112-cc52-0d047b5239eb"
      },
      "outputs": [
        {
          "name": "stdout",
          "output_type": "stream",
          "text": [
            "{'banana': 4, 'milk': 2, 'bread': 1}\n"
          ]
        }
      ],
      "source": [
        "grocery_list= {\n",
        "    'banana': 4,\n",
        "    'milk': 2,\n",
        "    'bread': 1\n",
        "}\n",
        "print(grocery_list)"
      ]
    },
    {
      "cell_type": "markdown",
      "id": "07ce7b19-1d37-4aad-9ded-43f4ca111b10",
      "metadata": {
        "id": "07ce7b19-1d37-4aad-9ded-43f4ca111b10"
      },
      "source": [
        "F) Finally, let's create a tuple with values in it. Fill in the right side of equation so that bucket_list is assigned to a tuple with values in it."
      ]
    },
    {
      "cell_type": "code",
      "execution_count": null,
      "id": "b3594492-69bf-457e-96bf-e262eb643941",
      "metadata": {
        "id": "b3594492-69bf-457e-96bf-e262eb643941",
        "outputId": "95afbc45-cabf-4a63-983f-53dd22cfadc8"
      },
      "outputs": [
        {
          "name": "stdout",
          "output_type": "stream",
          "text": [
            "('learn Python', 'go to space', 'scuba diving', 'climb Everest')\n"
          ]
        }
      ],
      "source": [
        "bucket_list=('learn Python',  'go to space', 'scuba diving', 'climb Everest')\n",
        "print(bucket_list)"
      ]
    },
    {
      "cell_type": "markdown",
      "id": "93a50a6e-c05e-4c67-89a2-42732194f2bc",
      "metadata": {
        "tags": [],
        "id": "93a50a6e-c05e-4c67-89a2-42732194f2bc"
      },
      "source": [
        "#### 6. Lists"
      ]
    },
    {
      "cell_type": "markdown",
      "id": "29c98986-150c-4c84-af25-c231c8f4a608",
      "metadata": {
        "id": "29c98986-150c-4c84-af25-c231c8f4a608"
      },
      "source": [
        "A) Assign the first element of the list to answer_1"
      ]
    },
    {
      "cell_type": "code",
      "execution_count": null,
      "id": "cf314886-aca0-4e59-82d9-01c3a52dafab",
      "metadata": {
        "id": "cf314886-aca0-4e59-82d9-01c3a52dafab",
        "outputId": "02dc332c-4413-4d03-8555-8b1f951ff5e6"
      },
      "outputs": [
        {
          "name": "stdout",
          "output_type": "stream",
          "text": [
            "11\n"
          ]
        }
      ],
      "source": [
        "lst=[11, 100, 99, 1000, 999]\n",
        "answer_1=lst[0]\n",
        "print(answer_1)"
      ]
    },
    {
      "cell_type": "markdown",
      "id": "5302cf27-ded3-46b0-910a-5dd712e09c64",
      "metadata": {
        "id": "5302cf27-ded3-46b0-910a-5dd712e09c64"
      },
      "source": [
        "B) And let's print the second element directly inside print function. This time print the second element of the list directly. You should get 100."
      ]
    },
    {
      "cell_type": "code",
      "execution_count": null,
      "id": "e64b4fb8-4f17-40b0-9a5c-fff3ed56a687",
      "metadata": {
        "id": "e64b4fb8-4f17-40b0-9a5c-fff3ed56a687",
        "outputId": "3d348a50-1717-4b35-dcd6-ae969c3b773d"
      },
      "outputs": [
        {
          "name": "stdout",
          "output_type": "stream",
          "text": [
            "100\n"
          ]
        }
      ],
      "source": [
        "lst=[11, 100, 101, 999, 1001]\n",
        "print(lst[1])"
      ]
    },
    {
      "cell_type": "markdown",
      "id": "5ff75028-a025-4ae3-bc34-e034321be0e5",
      "metadata": {
        "id": "5ff75028-a025-4ae3-bc34-e034321be0e5"
      },
      "source": [
        "C) And the last element.\n",
        "Print the last element of the list through variable answer_1."
      ]
    },
    {
      "cell_type": "code",
      "execution_count": null,
      "id": "ee035deb-fcd8-4440-9945-17adf8b95e5a",
      "metadata": {
        "id": "ee035deb-fcd8-4440-9945-17adf8b95e5a",
        "outputId": "03b0b4d8-4ef4-4576-8491-aa6495f6c580"
      },
      "outputs": [
        {
          "name": "stdout",
          "output_type": "stream",
          "text": [
            "1001\n"
          ]
        }
      ],
      "source": [
        "lst=[11, 100, 101, 999, 1001]\n",
        "answer_1=lst[-1]\n",
        "print(answer_1)"
      ]
    },
    {
      "cell_type": "markdown",
      "id": "b946c11e-c864-457f-986e-43281246768d",
      "metadata": {
        "id": "b946c11e-c864-457f-986e-43281246768d"
      },
      "source": [
        "D) .append() method will let you add items to your lists.\n",
        "Add the string \"pajamas\" to the list with .append() method."
      ]
    },
    {
      "cell_type": "code",
      "execution_count": null,
      "id": "67da8bb7-5c29-4cb9-a304-8ccded263410",
      "metadata": {
        "id": "67da8bb7-5c29-4cb9-a304-8ccded263410",
        "outputId": "8cd235d7-3041-4aa9-f7e8-2673f2bd2299"
      },
      "outputs": [
        {
          "name": "stdout",
          "output_type": "stream",
          "text": [
            "['socks', '4K drone', 'wine', 'jam', 'pajamas']\n"
          ]
        }
      ],
      "source": [
        "gift_list=['socks', '4K drone', 'wine', 'jam']\n",
        "gift_list.append('pajamas')\n",
        "print(gift_list)"
      ]
    },
    {
      "cell_type": "markdown",
      "id": "2f2ba12b-c998-49b5-ae5e-e4f5061682cd",
      "metadata": {
        "id": "2f2ba12b-c998-49b5-ae5e-e4f5061682cd"
      },
      "source": [
        "E) Lists can hold many type of data inside them. You can even add another list to a list as its element. This is called nested data in Python. This time add the sub-list: [\"socks\", \"tshirt\", \"pajamas\"] to the end of the gift_list."
      ]
    },
    {
      "cell_type": "code",
      "execution_count": null,
      "id": "7b6a3e4e-c017-44ef-a56d-515b50683152",
      "metadata": {
        "id": "7b6a3e4e-c017-44ef-a56d-515b50683152",
        "outputId": "879c26b5-8d42-42a2-da91-bc4346fb818b"
      },
      "outputs": [
        {
          "name": "stdout",
          "output_type": "stream",
          "text": [
            "['socks', '4K drone', 'wine', 'jam', ['socks', 'tshirt', 'pajamas']]\n"
          ]
        }
      ],
      "source": [
        "gift_list=['socks', '4K drone', 'wine', 'jam']\n",
        "gift_list.append([\"socks\",\"tshirt\",\"pajamas\"])\n",
        "print(gift_list)"
      ]
    },
    {
      "cell_type": "markdown",
      "id": "c05a8fdc-6319-4031-ae3c-5ccb77941e7e",
      "metadata": {
        "id": "c05a8fdc-6319-4031-ae3c-5ccb77941e7e"
      },
      "source": [
        "F) .insert() lets you specify the index you want to add your item.\n",
        "This time insert \"slippers\" to index 3 of gift_list."
      ]
    },
    {
      "cell_type": "code",
      "execution_count": null,
      "id": "00025be5-a093-4c75-af31-16f95c00d9fd",
      "metadata": {
        "id": "00025be5-a093-4c75-af31-16f95c00d9fd",
        "outputId": "eeb1cd4b-6a59-42df-b989-2caf9ea17ac4"
      },
      "outputs": [
        {
          "name": "stdout",
          "output_type": "stream",
          "text": [
            "['socks', '4K drone', 'slippers', 'wine', 'jam']\n"
          ]
        }
      ],
      "source": [
        "gift_list=['socks', '4K drone', 'wine', 'jam']\n",
        "gift_list.insert(2, \"slippers\")\n",
        "print(gift_list)"
      ]
    },
    {
      "cell_type": "markdown",
      "id": "7036f1e4-8f4e-4720-8127-3ad524fb0c80",
      "metadata": {
        "id": "7036f1e4-8f4e-4720-8127-3ad524fb0c80"
      },
      "source": [
        "G) With .index() method you can learn the index number of an item inside your list. Assign the index no of 8679 to the variable answer_1."
      ]
    },
    {
      "cell_type": "code",
      "execution_count": null,
      "id": "8ed61c1e-1e0c-4651-bf20-443194a4740d",
      "metadata": {
        "id": "8ed61c1e-1e0c-4651-bf20-443194a4740d",
        "outputId": "82a32399-0cae-4b5d-c836-8404f755f67e"
      },
      "outputs": [
        {
          "name": "stdout",
          "output_type": "stream",
          "text": [
            "8\n"
          ]
        }
      ],
      "source": [
        "lst=[55, 777, 54, 6, 76, 101, 1, 2, 8679, 123, 99]\n",
        "answer_1=lst.index(8679)\n",
        "print(answer_1)"
      ]
    },
    {
      "cell_type": "markdown",
      "id": "e6f4b7bd-c176-49ee-94ea-b207a1c67531",
      "metadata": {
        "id": "e6f4b7bd-c176-49ee-94ea-b207a1c67531"
      },
      "source": [
        "H) Using .append() method, add a new list to the end of the list which contains strings: \"Navigator\" and \"Suburban\"."
      ]
    },
    {
      "cell_type": "code",
      "execution_count": null,
      "id": "efe24c88-7e9d-4a3c-851e-93868b8ca563",
      "metadata": {
        "id": "efe24c88-7e9d-4a3c-851e-93868b8ca563",
        "outputId": "d91d4980-f816-46c6-f53b-b3098e1fb66f"
      },
      "outputs": [
        {
          "name": "stdout",
          "output_type": "stream",
          "text": [
            "['CRV', 'Outback', 'XC90', 'GL', 'Cherokee', 'Escalade', ['Navigator', 'Suburban']]\n"
          ]
        }
      ],
      "source": [
        "lst=[\"CRV\", \"Outback\", \"XC90\", \"GL\", \"Cherokee\", \"Escalade\"]\n",
        "lst.append([\"Navigator\", \"Suburban\"])\n",
        "print(lst)"
      ]
    },
    {
      "cell_type": "markdown",
      "id": "4a7bbee9-6182-4d2b-b80c-9cfd86809d71",
      "metadata": {
        "id": "4a7bbee9-6182-4d2b-b80c-9cfd86809d71"
      },
      "source": [
        "I) Using .remove() method, clear the last element of the list."
      ]
    },
    {
      "cell_type": "code",
      "execution_count": null,
      "id": "a694bbba-2cd2-42b6-92fb-987887faf1b1",
      "metadata": {
        "id": "a694bbba-2cd2-42b6-92fb-987887faf1b1",
        "outputId": "5ccc9566-8648-4b18-fe7b-b9dda266974d"
      },
      "outputs": [
        {
          "name": "stdout",
          "output_type": "stream",
          "text": [
            "[55, 777, 54, 6, 76, 101, 1, 2, 8679, 123]\n"
          ]
        }
      ],
      "source": [
        "lst=[55, 777, 54, 6, 76, 101, 1, 2, 8679, 123, 99]\n",
        "lst.remove(99)\n",
        "print(lst)"
      ]
    },
    {
      "cell_type": "markdown",
      "id": "2ba077fa-710c-4c43-9604-044f6f1d8483",
      "metadata": {
        "id": "2ba077fa-710c-4c43-9604-044f6f1d8483"
      },
      "source": [
        "J) Using .reverse() method, reverse the list."
      ]
    },
    {
      "cell_type": "code",
      "execution_count": null,
      "id": "04d9c6ca-9e6b-4344-bdb3-2d1b8cf15e28",
      "metadata": {
        "id": "04d9c6ca-9e6b-4344-bdb3-2d1b8cf15e28",
        "outputId": "5f1d9b9f-ad60-47a5-f82a-e6a9fa267c49"
      },
      "outputs": [
        {
          "name": "stdout",
          "output_type": "stream",
          "text": [
            "[99, 123, 8679, 2, 1, 101, 76, 6, 54, 777, 55]\n"
          ]
        }
      ],
      "source": [
        "lst=[55, 777, 54, 6, 76, 101, 1, 2, 8679, 123, 99]\n",
        "lst.reverse()\n",
        "print(lst)"
      ]
    },
    {
      "cell_type": "markdown",
      "id": "d0b7a891-ab43-489d-8a16-54396975d53b",
      "metadata": {
        "id": "d0b7a891-ab43-489d-8a16-54396975d53b"
      },
      "source": [
        "K) Using .count() method, count how many times 6 occur in the list."
      ]
    },
    {
      "cell_type": "code",
      "execution_count": null,
      "id": "17ff57ab-be71-4896-a906-5f14b44e0d99",
      "metadata": {
        "id": "17ff57ab-be71-4896-a906-5f14b44e0d99",
        "outputId": "10394a74-f2bc-43dc-f786-bfbb8b36e3bc"
      },
      "outputs": [
        {
          "name": "stdout",
          "output_type": "stream",
          "text": [
            "4\n"
          ]
        }
      ],
      "source": [
        "lst=[55, 6, 777, 54, 6, 76, 101, 1, 6, 2, 6]\n",
        "answer_1=lst.count(6)\n",
        "print(answer_1)"
      ]
    },
    {
      "cell_type": "markdown",
      "id": "afb32185-76fe-4409-a550-4edf28b0035f",
      "metadata": {
        "id": "afb32185-76fe-4409-a550-4edf28b0035f"
      },
      "source": [
        "L) What is the sum of all the numbers in the list?"
      ]
    },
    {
      "cell_type": "code",
      "execution_count": null,
      "id": "1450a9d9-c278-4bd6-b131-8d02a40f69e4",
      "metadata": {
        "id": "1450a9d9-c278-4bd6-b131-8d02a40f69e4",
        "outputId": "ffbd6df7-2221-4dcd-ffa3-5f18ebf6a567"
      },
      "outputs": [
        {
          "name": "stdout",
          "output_type": "stream",
          "text": [
            "1090\n"
          ]
        }
      ],
      "source": [
        "lst=[55, 6, 777, 54, 6, 76, 101, 1, 6, 2, 6]\n",
        "answer_1 = sum(lst)\n",
        "print(answer_1)"
      ]
    },
    {
      "cell_type": "markdown",
      "id": "c51f34fd-318b-4911-b51e-e40c012dd9a7",
      "metadata": {
        "id": "c51f34fd-318b-4911-b51e-e40c012dd9a7"
      },
      "source": [
        "M) What is the minimum value in the list?"
      ]
    },
    {
      "cell_type": "code",
      "execution_count": null,
      "id": "0cae0ed2-bbee-4f44-b5e0-f41cd92472ac",
      "metadata": {
        "id": "0cae0ed2-bbee-4f44-b5e0-f41cd92472ac",
        "outputId": "a79a142f-e537-4525-eaaf-bf73d0bbe4a1"
      },
      "outputs": [
        {
          "name": "stdout",
          "output_type": "stream",
          "text": [
            "1\n"
          ]
        }
      ],
      "source": [
        "lst=[55, 6, 777, 54, 6, 76, 101, 1, 6, 2, 6]\n",
        "answer_1 = min(lst)\n",
        "print(answer_1)"
      ]
    },
    {
      "cell_type": "markdown",
      "id": "45971b44-4d46-41a8-bcbd-823e83140ab0",
      "metadata": {
        "id": "45971b44-4d46-41a8-bcbd-823e83140ab0"
      },
      "source": [
        "N) What is the maximum value in the list?"
      ]
    },
    {
      "cell_type": "code",
      "execution_count": null,
      "id": "f37158db-744f-43c3-a7e5-99df05b34e8b",
      "metadata": {
        "id": "f37158db-744f-43c3-a7e5-99df05b34e8b",
        "outputId": "4122d707-3ba9-4a84-ee36-432512d788e6"
      },
      "outputs": [
        {
          "name": "stdout",
          "output_type": "stream",
          "text": [
            "777\n"
          ]
        }
      ],
      "source": [
        "lst=[55, 6, 777, 54, 6, 76, 101, 1, 6, 2, 6]\n",
        "answer_1 = max(lst)\n",
        "print(answer_1)"
      ]
    },
    {
      "cell_type": "markdown",
      "id": "ded893be-2c29-4c83-a91a-69d591fe46dc",
      "metadata": {
        "tags": [],
        "id": "ded893be-2c29-4c83-a91a-69d591fe46dc"
      },
      "source": [
        "#### 7. Tuples"
      ]
    },
    {
      "cell_type": "markdown",
      "id": "2c314023-800b-4eee-8051-1562ab6a1268",
      "metadata": {
        "id": "2c314023-800b-4eee-8051-1562ab6a1268"
      },
      "source": [
        "A) Assign the first element of the tuple to answer_1."
      ]
    },
    {
      "cell_type": "code",
      "execution_count": null,
      "id": "03e1b48f-c504-426d-b69f-10894cb82643",
      "metadata": {
        "id": "03e1b48f-c504-426d-b69f-10894cb82643",
        "outputId": "560dc10f-f7a9-49ef-f0b2-027a92316a99"
      },
      "outputs": [
        {
          "name": "stdout",
          "output_type": "stream",
          "text": [
            "11\n"
          ]
        }
      ],
      "source": [
        "tt=(11, 100, 99, 1000, 999)\n",
        "answer_1 = tt[0]\n",
        "print(answer_1)"
      ]
    },
    {
      "cell_type": "markdown",
      "id": "ef39d189-e0a6-4465-9d92-c45ed03fa594",
      "metadata": {
        "id": "ef39d189-e0a6-4465-9d92-c45ed03fa594"
      },
      "source": [
        "B) This time print the third element of the tuple."
      ]
    },
    {
      "cell_type": "code",
      "execution_count": null,
      "id": "bddd8494-2d6c-440c-9f4f-41bf2555d098",
      "metadata": {
        "id": "bddd8494-2d6c-440c-9f4f-41bf2555d098",
        "outputId": "7af237f8-d53c-42f1-fe99-664439c1ce57"
      },
      "outputs": [
        {
          "name": "stdout",
          "output_type": "stream",
          "text": [
            "101\n"
          ]
        }
      ],
      "source": [
        "tt=(11, 100, 101, 999, 1001)\n",
        "answer_1 = tt[2]\n",
        "print(answer_1)"
      ]
    },
    {
      "cell_type": "markdown",
      "id": "c33a469e-00ef-4072-b2b1-5321d5f13d85",
      "metadata": {
        "id": "c33a469e-00ef-4072-b2b1-5321d5f13d85"
      },
      "source": [
        "C) Print the second from the last element of the tuple."
      ]
    },
    {
      "cell_type": "code",
      "execution_count": null,
      "id": "ab8913c8-3a33-456a-b340-897eef31a5ab",
      "metadata": {
        "id": "ab8913c8-3a33-456a-b340-897eef31a5ab",
        "outputId": "c5ac9d38-cff3-460a-8dc9-57d215b12bd8"
      },
      "outputs": [
        {
          "name": "stdout",
          "output_type": "stream",
          "text": [
            "999\n"
          ]
        }
      ],
      "source": [
        "lst=(11, 100, 101, 999, 1001)\n",
        "answer_1 = lst[-2]\n",
        "print(answer_1)"
      ]
    },
    {
      "cell_type": "markdown",
      "id": "9b072f01-cc89-49f4-afc6-d820b0bd0b6e",
      "metadata": {
        "id": "9b072f01-cc89-49f4-afc6-d820b0bd0b6e"
      },
      "source": [
        "D) What's the index of 2?"
      ]
    },
    {
      "cell_type": "code",
      "execution_count": null,
      "id": "09e9ee86-d2da-4139-a408-6d6ccefea7a3",
      "metadata": {
        "id": "09e9ee86-d2da-4139-a408-6d6ccefea7a3",
        "outputId": "b3e29cc0-6e27-4af1-f43b-27866808ed0a"
      },
      "outputs": [
        {
          "name": "stdout",
          "output_type": "stream",
          "text": [
            "7\n"
          ]
        }
      ],
      "source": [
        "tt=(55, 777, 54, 6, 76, 101, 1, 2, 8679, 123, 99)\n",
        "answer_1=tt.index(2)\n",
        "print(answer_1)"
      ]
    },
    {
      "cell_type": "markdown",
      "id": "82d80466-9832-4e3f-8aa7-5cbed2826a53",
      "metadata": {
        "id": "82d80466-9832-4e3f-8aa7-5cbed2826a53"
      },
      "source": [
        "E) How many times does 777 occur?"
      ]
    },
    {
      "cell_type": "code",
      "execution_count": null,
      "id": "e54f43ec-b5d7-4d3f-abdc-598ee50fce5d",
      "metadata": {
        "id": "e54f43ec-b5d7-4d3f-abdc-598ee50fce5d",
        "outputId": "e7fc51d0-00e9-46ac-8b4e-bc9fb80c1812"
      },
      "outputs": [
        {
          "name": "stdout",
          "output_type": "stream",
          "text": [
            "2\n"
          ]
        }
      ],
      "source": [
        "tt=(55, 6, 777, 54, 6, 76, 7777, 1, 777, 2, 6)\n",
        "answer_1=tt.count(777)\n",
        "print(answer_1)"
      ]
    },
    {
      "cell_type": "markdown",
      "id": "08f5b847-fd7f-47bd-886b-a7167241fd11",
      "metadata": {
        "id": "08f5b847-fd7f-47bd-886b-a7167241fd11"
      },
      "source": [
        "F) What is the sum of all the numbers in the tuple?"
      ]
    },
    {
      "cell_type": "code",
      "execution_count": null,
      "id": "83d72c3b-a609-4d88-929c-a444311f541b",
      "metadata": {
        "id": "83d72c3b-a609-4d88-929c-a444311f541b",
        "outputId": "29486604-8123-4c9b-ad2f-ad2403d5e241"
      },
      "outputs": [
        {
          "name": "stdout",
          "output_type": "stream",
          "text": [
            "2\n"
          ]
        }
      ],
      "source": [
        "tt=(42, 1092, 11, 88, 65, 2, 6)\n",
        "ans_1 = sum(tt)\n",
        "print(answer_1)"
      ]
    },
    {
      "cell_type": "markdown",
      "id": "563c3e84-a3d9-4d16-b85a-f1b42ee190eb",
      "metadata": {
        "id": "563c3e84-a3d9-4d16-b85a-f1b42ee190eb"
      },
      "source": [
        "G) What is the minimum value in the tuple?"
      ]
    },
    {
      "cell_type": "code",
      "execution_count": null,
      "id": "1306f238-9d23-47e6-85e7-df03b0f62e20",
      "metadata": {
        "id": "1306f238-9d23-47e6-85e7-df03b0f62e20",
        "outputId": "1a1a9937-763f-46ce-99eb-1d80e7196f62"
      },
      "outputs": [
        {
          "name": "stdout",
          "output_type": "stream",
          "text": [
            "2\n"
          ]
        }
      ],
      "source": [
        "tt=(66, 555, 11, 101, 9, 1001)\n",
        "ans_1 = min(tt)\n",
        "print(answer_1)"
      ]
    },
    {
      "cell_type": "markdown",
      "id": "a634730a-c7ca-4d3a-9979-1e8f96148047",
      "metadata": {
        "id": "a634730a-c7ca-4d3a-9979-1e8f96148047"
      },
      "source": [
        "H) What is the maximum value in the tuple?"
      ]
    },
    {
      "cell_type": "code",
      "execution_count": null,
      "id": "b620e159-ebbb-40a8-a94d-45545efaafe6",
      "metadata": {
        "id": "b620e159-ebbb-40a8-a94d-45545efaafe6",
        "outputId": "eb8ca377-5f70-4a40-97b2-442df959ea2a"
      },
      "outputs": [
        {
          "name": "stdout",
          "output_type": "stream",
          "text": [
            "2\n"
          ]
        }
      ],
      "source": [
        "tt=(66, 555, 11, 101, 9, 1001)\n",
        "ans_1 = max(tt)\n",
        "print(answer_1)"
      ]
    },
    {
      "cell_type": "markdown",
      "id": "56f585b1-e6a9-4249-9c0e-c65da383f243",
      "metadata": {
        "tags": [],
        "id": "56f585b1-e6a9-4249-9c0e-c65da383f243"
      },
      "source": [
        "#### 8. Dictionaries"
      ]
    },
    {
      "cell_type": "markdown",
      "id": "35c44a6c-0781-421b-b13c-77d596b09e04",
      "metadata": {
        "id": "35c44a6c-0781-421b-b13c-77d596b09e04"
      },
      "source": [
        "A) Dictionaries don't have index orders, so speaking about them regarding their first item or last item is not very correct. Next time you print a dictionary it may have a different order than you saw before. Instead they have keys, and we can use keys to call their values. When was Plato born?"
      ]
    },
    {
      "cell_type": "code",
      "execution_count": null,
      "id": "51ed3e71-ce85-4517-8167-ec8e57b1cc18",
      "metadata": {
        "id": "51ed3e71-ce85-4517-8167-ec8e57b1cc18",
        "outputId": "1c4b4fdf-172b-4172-e40a-8b6e66a4632a"
      },
      "outputs": [
        {
          "name": "stdout",
          "output_type": "stream",
          "text": [
            "-427\n"
          ]
        }
      ],
      "source": [
        "person={\n",
        "    \"name\": \"Plato\",\n",
        "    \"country\": \"Ancient Greece\",\n",
        "    \"born\": -427,\n",
        "    \"teacher\": \"Socrates\",\n",
        "    \"student\": \"Aristotle\"\n",
        "}\n",
        "answer_1 = person[\"born\"]\n",
        "print(answer_1)"
      ]
    },
    {
      "cell_type": "markdown",
      "id": "fae588a3-07c8-4a44-8084-590d1055a0fd",
      "metadata": {
        "id": "fae588a3-07c8-4a44-8084-590d1055a0fd"
      },
      "source": [
        "B) Change Plato's birth year from B.C. 427 to B.C. 428."
      ]
    },
    {
      "cell_type": "code",
      "execution_count": null,
      "id": "6e53ea90-3934-4ae0-936f-1e9d89a2e106",
      "metadata": {
        "id": "6e53ea90-3934-4ae0-936f-1e9d89a2e106",
        "outputId": "5db9abdd-7640-4d9f-9b41-1c693d042c2c"
      },
      "outputs": [
        {
          "name": "stdout",
          "output_type": "stream",
          "text": [
            "-428\n"
          ]
        }
      ],
      "source": [
        "person={\n",
        "    \"name\": \"Plato\",\n",
        "    \"country\": \"Ancient Greece\",\n",
        "    \"born\": -427,\n",
        "    \"teacher\": \"Socrates\",\n",
        "    \"student\": \"Aristotle\"\n",
        "}\n",
        "person[\"born\"] = -428\n",
        "print(person[\"born\"])"
      ]
    },
    {
      "cell_type": "markdown",
      "id": "1356a9ab-9fee-4a8c-876e-d053be25a2d5",
      "metadata": {
        "id": "1356a9ab-9fee-4a8c-876e-d053be25a2d5"
      },
      "source": [
        "C) Dictionaries can have nested data too. Also, you can add a new key to a dictionary as they are mutable (changeable). Try to add the key \"work\" to dict with values shown below.\n",
        "\n",
        "\"work\": [\"Apology\", \"Phaedo\", \"Republic\", \"Symposium\"]"
      ]
    },
    {
      "cell_type": "code",
      "execution_count": null,
      "id": "6dc7f8f3-f424-47bd-92bc-4411ceeceb81",
      "metadata": {
        "tags": [],
        "id": "6dc7f8f3-f424-47bd-92bc-4411ceeceb81",
        "outputId": "aa0cec53-9b12-4a78-e683-0db2c67b6d2d"
      },
      "outputs": [
        {
          "name": "stdout",
          "output_type": "stream",
          "text": [
            "{'name': 'Plato', 'country': 'Ancient Greece', 'born': -427, 'teacher': 'Socrates', 'student': 'Aristotle', 'work': ['Apology', 'Phaedo', 'Republic', 'Symposium']}\n"
          ]
        }
      ],
      "source": [
        "person={\n",
        "    \"name\": \"Plato\",\n",
        "    \"country\": \"Ancient Greece\",\n",
        "    \"born\": -427,\n",
        "    \"teacher\": \"Socrates\",\n",
        "    \"student\": \"Aristotle\"\n",
        "}\n",
        "person[\"work\"] = [\"Apology\", \"Phaedo\", \"Republic\", \"Symposium\"]\n",
        "print(person)"
      ]
    },
    {
      "cell_type": "markdown",
      "id": "4cc6bd31-b06c-4a89-ba5b-bdd863c887b6",
      "metadata": {
        "id": "4cc6bd31-b06c-4a89-ba5b-bdd863c887b6"
      },
      "source": [
        "D) Add 2 inches to the son's height."
      ]
    },
    {
      "cell_type": "code",
      "execution_count": null,
      "id": "a3a84c19-70d2-4b7d-aeb1-8780c916f070",
      "metadata": {
        "id": "a3a84c19-70d2-4b7d-aeb1-8780c916f070",
        "outputId": "d936eb32-6248-4265-911f-92386b457680"
      },
      "outputs": [
        {
          "name": "stdout",
          "output_type": "stream",
          "text": [
            "{\"son's name\": 'Lucas', \"son's eyes\": 'green', \"son's height\": 34, \"son's weight\": 25}\n"
          ]
        }
      ],
      "source": [
        "son={\n",
        "    \"son's name\": \"Lucas\",\n",
        "    \"son's eyes\": \"green\",\n",
        "    \"son's height\": 32,\n",
        "    \"son's weight\": 25\n",
        "}\n",
        "son[\"son's height\"] = son[\"son's height\"] + 2\n",
        "print(son)"
      ]
    },
    {
      "cell_type": "markdown",
      "id": "6966e744-0117-4741-a65d-ef4408e6a1d3",
      "metadata": {
        "id": "6966e744-0117-4741-a65d-ef4408e6a1d3"
      },
      "source": [
        "E) Using .items() method generate a list of tuples consisted of each key value pair."
      ]
    },
    {
      "cell_type": "code",
      "execution_count": null,
      "id": "07f79a07-8a94-4336-b177-c0e6f3b56483",
      "metadata": {
        "id": "07f79a07-8a94-4336-b177-c0e6f3b56483",
        "outputId": "6745597c-33da-46f1-da08-0ac6fbcd197f"
      },
      "outputs": [
        {
          "name": "stdout",
          "output_type": "stream",
          "text": [
            "dict_items([(\"son's name\", 'Lucas'), (\"son's eyes\", 'green'), (\"son's height\", 32), (\"son's weight\", 25)])\n"
          ]
        }
      ],
      "source": [
        "son={\n",
        "    \"son's name\": \"Lucas\",\n",
        "    \"son's eyes\": \"green\",\n",
        "    \"son's height\": 32,\n",
        "    \"son's weight\": 25\n",
        "}\n",
        "answer_1 = son.items()\n",
        "print(answer_1)"
      ]
    },
    {
      "cell_type": "markdown",
      "id": "44687239-9263-4511-9e71-28e60227ea55",
      "metadata": {
        "id": "44687239-9263-4511-9e71-28e60227ea55"
      },
      "source": [
        "F) Using .get() method print the value of \"son's eyes\"."
      ]
    },
    {
      "cell_type": "code",
      "execution_count": null,
      "id": "41001ac5-ce63-4ead-ad8c-493089d4738e",
      "metadata": {
        "id": "41001ac5-ce63-4ead-ad8c-493089d4738e",
        "outputId": "f5afd1d7-b982-4c1a-8c54-3140e8a6f5eb"
      },
      "outputs": [
        {
          "name": "stdout",
          "output_type": "stream",
          "text": [
            "green\n"
          ]
        }
      ],
      "source": [
        "son={\n",
        "    \"son's name\": \"Lucas\",\n",
        "    \"son's eyes\": \"green\",\n",
        "    \"son's height\": 32,\n",
        "    \"son's weight\": 25\n",
        "}\n",
        "answer_1 = son.get(\"son's eyes\")\n",
        "print(answer_1)"
      ]
    },
    {
      "cell_type": "markdown",
      "id": "00428023-f673-403b-9a1a-4cc53a18c118",
      "metadata": {
        "id": "00428023-f673-403b-9a1a-4cc53a18c118"
      },
      "source": [
        "G) .get() method can be used just to get the value of a key. But it has more tricks up its sleeve.\n",
        "Try to look for key: \"son's age\" and if nothing comes up make the .get() return \"2\"."
      ]
    },
    {
      "cell_type": "code",
      "execution_count": null,
      "id": "70645c76-c7ed-4172-bb2f-c5669b6e001c",
      "metadata": {
        "id": "70645c76-c7ed-4172-bb2f-c5669b6e001c",
        "outputId": "aa1608cf-242b-4766-bdc4-029751528745"
      },
      "outputs": [
        {
          "name": "stdout",
          "output_type": "stream",
          "text": [
            "2\n"
          ]
        }
      ],
      "source": [
        "son={\n",
        "    \"son's name\": \"Lucas\",\n",
        "    \"son's eyes\": \"green\",\n",
        "    \"son's height\": 32,\n",
        "    \"son's weight\": 25\n",
        "}\n",
        "answer_1=son.get(\"son's age\", 2)\n",
        "print(answer_1)"
      ]
    },
    {
      "cell_type": "markdown",
      "id": "a843c1c4-cd6a-4c82-a46f-9b461677afe5",
      "metadata": {
        "id": "a843c1c4-cd6a-4c82-a46f-9b461677afe5"
      },
      "source": [
        "H) Since dictionaries are mutable, they have some methods that tuples don't have.\n",
        ".clear() is one of them and it clears the whole dictionary. Clear the whole dictionary and print it."
      ]
    },
    {
      "cell_type": "code",
      "execution_count": null,
      "id": "def11972-9ad7-4e40-8927-3efe340050f3",
      "metadata": {
        "id": "def11972-9ad7-4e40-8927-3efe340050f3",
        "outputId": "25088173-36f7-459c-c5cc-34a428d4af0d"
      },
      "outputs": [
        {
          "name": "stdout",
          "output_type": "stream",
          "text": [
            "{}\n"
          ]
        }
      ],
      "source": [
        "son={\n",
        "    \"son's name\": \"Lucas\",\n",
        "    \"son's eyes\": \"green\",\n",
        "    \"son's height\": 32,\n",
        "    \"son's weight\": 25\n",
        "}\n",
        "son.clear()\n",
        "print(son)"
      ]
    },
    {
      "cell_type": "markdown",
      "id": "02cf0ca5-acdc-4c1d-80fc-2321e6b62cd9",
      "metadata": {
        "id": "02cf0ca5-acdc-4c1d-80fc-2321e6b62cd9"
      },
      "source": [
        "I) Using len function, find how many keys there are in the dictionary."
      ]
    },
    {
      "cell_type": "code",
      "execution_count": null,
      "id": "a6e29021-9216-44f4-92c8-113985dc8625",
      "metadata": {
        "id": "a6e29021-9216-44f4-92c8-113985dc8625",
        "outputId": "3c869aae-77e4-4dca-ab73-416621fdfb9b"
      },
      "outputs": [
        {
          "name": "stdout",
          "output_type": "stream",
          "text": [
            "4\n"
          ]
        }
      ],
      "source": [
        "son={\n",
        "    \"son's name\": \"Lucas\",\n",
        "    \"son's eyes\": \"green\",\n",
        "    \"son's height\": 32,\n",
        "    \"son's weight\": 25\n",
        "}\n",
        "answer_1 = len(son)\n",
        "print(answer_1)"
      ]
    },
    {
      "cell_type": "markdown",
      "id": "64460923-cff7-4a21-8b6a-ce86bc7a876b",
      "metadata": {
        "id": "64460923-cff7-4a21-8b6a-ce86bc7a876b"
      },
      "source": [
        "J) What's the key with the highest value in the dictionary?"
      ]
    },
    {
      "cell_type": "code",
      "execution_count": null,
      "id": "10064843-882f-47fb-b29a-c52c5156df84",
      "metadata": {
        "id": "10064843-882f-47fb-b29a-c52c5156df84",
        "outputId": "15bcda26-fe6e-4cca-b32c-3a8f1baec2d2"
      },
      "outputs": [
        {
          "name": "stdout",
          "output_type": "stream",
          "text": [
            "son's weight\n"
          ]
        }
      ],
      "source": [
        "son={\n",
        "    \"son's name\": \"Lucas\",\n",
        "    \"son's eyes\": \"green\",\n",
        "    \"son's height\": 32,\n",
        "    \"son's weight\": 25\n",
        "}\n",
        "answer_1=max(son)\n",
        "print(answer_1)"
      ]
    },
    {
      "cell_type": "markdown",
      "id": "84389230-8e0d-4463-8bfd-c98846dcb80b",
      "metadata": {
        "id": "84389230-8e0d-4463-8bfd-c98846dcb80b"
      },
      "source": [
        "K) What's the key with the lowest value in the dictionary?"
      ]
    },
    {
      "cell_type": "code",
      "execution_count": null,
      "id": "99b0130d-ca46-4cc9-9aa4-e199f1fd5236",
      "metadata": {
        "id": "99b0130d-ca46-4cc9-9aa4-e199f1fd5236",
        "outputId": "a5184549-6c67-4098-a7db-ec05092cbe65"
      },
      "outputs": [
        {
          "name": "stdout",
          "output_type": "stream",
          "text": [
            "son's eyes\n"
          ]
        }
      ],
      "source": [
        "son={\n",
        "    \"son's name\": \"Lucas\",\n",
        "    \"son's eyes\": \"green\",\n",
        "    \"son's height\": 32,\n",
        "    \"son's weight\": 25\n",
        "}\n",
        "answer_1=min(son)\n",
        "print(answer_1)"
      ]
    },
    {
      "cell_type": "markdown",
      "id": "c97f2bfd-0963-45d7-b183-fca201255402",
      "metadata": {
        "tags": [],
        "id": "c97f2bfd-0963-45d7-b183-fca201255402"
      },
      "source": [
        "#### 9. Strings"
      ]
    },
    {
      "cell_type": "markdown",
      "id": "9676e8a6-0b9f-443c-b8ed-db838963f138",
      "metadata": {
        "id": "9676e8a6-0b9f-443c-b8ed-db838963f138"
      },
      "source": [
        "A) Assign the string below to the variable in the exercise.\n",
        "\n",
        "\"It's always darkest before dawn.\""
      ]
    },
    {
      "cell_type": "code",
      "execution_count": null,
      "id": "a4d95530-00af-41dc-b476-443cf6c53b95",
      "metadata": {
        "id": "a4d95530-00af-41dc-b476-443cf6c53b95",
        "outputId": "644cfa9c-9f67-46d0-986c-700bff634018"
      },
      "outputs": [
        {
          "name": "stdout",
          "output_type": "stream",
          "text": [
            "It's always darkest before dawn.\n"
          ]
        }
      ],
      "source": [
        "text=\"It's always darkest before dawn.\"\n",
        "print(text)"
      ]
    },
    {
      "cell_type": "markdown",
      "id": "cf6bf936-5832-43e1-a207-01875a7f942f",
      "metadata": {
        "id": "cf6bf936-5832-43e1-a207-01875a7f942f"
      },
      "source": [
        "B) By using first, second and last characters of the string, create a new string."
      ]
    },
    {
      "cell_type": "code",
      "execution_count": null,
      "id": "641a680d-d1ba-493f-8774-7fb1219958bf",
      "metadata": {
        "id": "641a680d-d1ba-493f-8774-7fb1219958bf",
        "outputId": "559cbaa0-535b-4d03-916a-877021bce8de"
      },
      "outputs": [
        {
          "name": "stdout",
          "output_type": "stream",
          "text": [
            "It.\n"
          ]
        }
      ],
      "source": [
        "text=\"It's always darkest before dawn.\"\n",
        "answer_1=text[0]+text[1]+text[-1]\n",
        "print(answer_1)"
      ]
    },
    {
      "cell_type": "markdown",
      "id": "43131719-a171-461b-9e34-a1fe1a4daea5",
      "metadata": {
        "id": "43131719-a171-461b-9e34-a1fe1a4daea5"
      },
      "source": [
        "C) Replace the (.) with (!)"
      ]
    },
    {
      "cell_type": "code",
      "execution_count": null,
      "id": "8b65c296-4132-4590-bdf1-4d80d4af6c3d",
      "metadata": {
        "id": "8b65c296-4132-4590-bdf1-4d80d4af6c3d",
        "outputId": "d309c59a-d173-41a1-f9e5-267ee7728efe"
      },
      "outputs": [
        {
          "name": "stdout",
          "output_type": "stream",
          "text": [
            "It's always darkest before dawn!\n"
          ]
        }
      ],
      "source": [
        "text=\"It's always darkest before dawn.\"\n",
        "text=text.replace(\".\", \"!\")\n",
        "print(text)"
      ]
    },
    {
      "cell_type": "markdown",
      "id": "cfa7c554-fcb6-4cff-bc87-8ace15cc6574",
      "metadata": {
        "id": "cfa7c554-fcb6-4cff-bc87-8ace15cc6574"
      },
      "source": [
        "D) Reassign text so that, all its characters are lowercase."
      ]
    },
    {
      "cell_type": "code",
      "execution_count": null,
      "id": "b8374fc3-b2bd-439f-8d98-a9b981a19bf8",
      "metadata": {
        "id": "b8374fc3-b2bd-439f-8d98-a9b981a19bf8",
        "outputId": "37c8bfd4-23be-41a0-e952-461e48ba73d9"
      },
      "outputs": [
        {
          "name": "stdout",
          "output_type": "stream",
          "text": [
            "every strike brings me closer to the next home run.\n"
          ]
        }
      ],
      "source": [
        "text=\"EVERY Strike Brings Me Closer to the Next Home run.\"\n",
        "text=text.lower()\n",
        "print(text)"
      ]
    },
    {
      "cell_type": "markdown",
      "id": "ea5015ac-7bd2-4913-9508-c2fc3019052e",
      "metadata": {
        "id": "ea5015ac-7bd2-4913-9508-c2fc3019052e"
      },
      "source": [
        "E) Now make everything uppercase."
      ]
    },
    {
      "cell_type": "code",
      "execution_count": null,
      "id": "8ecbaf47-019d-460f-b254-cf6a07ab6e46",
      "metadata": {
        "id": "8ecbaf47-019d-460f-b254-cf6a07ab6e46",
        "outputId": "244a36cb-1993-4ddd-ce72-e7f2b3ae1900"
      },
      "outputs": [
        {
          "name": "stdout",
          "output_type": "stream",
          "text": [
            "DON'T STOP ME NOW.\n"
          ]
        }
      ],
      "source": [
        "text=\"don't stop me now.\"\n",
        "text=text.upper()\n",
        "print(text)"
      ]
    },
    {
      "cell_type": "markdown",
      "id": "b3d32a7f-d729-4350-95ee-c8158d586ab7",
      "metadata": {
        "id": "b3d32a7f-d729-4350-95ee-c8158d586ab7"
      },
      "source": [
        "F) Make the string so that everything is properly and first letter is capital with one function."
      ]
    },
    {
      "cell_type": "code",
      "execution_count": null,
      "id": "dc48fe76-a4da-4b27-a947-9c34e94d5332",
      "metadata": {
        "id": "dc48fe76-a4da-4b27-a947-9c34e94d5332",
        "outputId": "405cfe31-0e63-4bed-fd71-633b577ed2ed"
      },
      "outputs": [
        {
          "name": "stdout",
          "output_type": "stream",
          "text": [
            "There are no traffic jams along the extra mile.\n"
          ]
        }
      ],
      "source": [
        "text=\"there are no traffic JamS Along The extra mile.\"\n",
        "text=text.capitalize()\n",
        "print(text)"
      ]
    },
    {
      "cell_type": "markdown",
      "id": "5e1df4f1-3e2f-4e2d-bd09-9f37a187bd70",
      "metadata": {
        "id": "5e1df4f1-3e2f-4e2d-bd09-9f37a187bd70"
      },
      "source": [
        "G) Does the string start with an A? Assign a boolean answer to the answer_1 variable."
      ]
    },
    {
      "cell_type": "code",
      "execution_count": null,
      "id": "45b85a7b-7e66-4812-a341-ac1b1f20fa3d",
      "metadata": {
        "id": "45b85a7b-7e66-4812-a341-ac1b1f20fa3d",
        "outputId": "f31aa9c6-04fc-41c2-e7b7-ecad0c0458f1"
      },
      "outputs": [
        {
          "name": "stdout",
          "output_type": "stream",
          "text": [
            "False\n"
          ]
        }
      ],
      "source": [
        "text=\"There are no traffic jams along the extra mile.\"\n",
        "answer_1=text.startswith(\"A\")\n",
        "print(answer_1)"
      ]
    },
    {
      "cell_type": "markdown",
      "id": "18073f85-a960-4cb9-a925-b7cb905b519b",
      "metadata": {
        "id": "18073f85-a960-4cb9-a925-b7cb905b519b"
      },
      "source": [
        "H) Does it end with a fullstop (.) ?"
      ]
    },
    {
      "cell_type": "code",
      "execution_count": null,
      "id": "54ac338a-0695-4113-bfc2-c42b66f3b4ec",
      "metadata": {
        "id": "54ac338a-0695-4113-bfc2-c42b66f3b4ec",
        "outputId": "9e57d844-98ef-4a30-9560-c5d565717382"
      },
      "outputs": [
        {
          "name": "stdout",
          "output_type": "stream",
          "text": [
            "True\n"
          ]
        }
      ],
      "source": [
        "text=\"There are no traffic jams along the extra mile.\"\n",
        "answer_1=text.endswith(\".\")\n",
        "print(answer_1)"
      ]
    },
    {
      "cell_type": "markdown",
      "id": "38afbba3-0fcd-4e81-86c6-77235b88a28e",
      "metadata": {
        "id": "38afbba3-0fcd-4e81-86c6-77235b88a28e"
      },
      "source": [
        "I) Using .index() method, identify the index of character: (v)."
      ]
    },
    {
      "cell_type": "code",
      "execution_count": null,
      "id": "dbb69e6f-8f25-415f-8226-49ecc50eca35",
      "metadata": {
        "id": "dbb69e6f-8f25-415f-8226-49ecc50eca35",
        "outputId": "83628234-a7b9-42d9-aee6-82a16241d0e5"
      },
      "outputs": [
        {
          "name": "stdout",
          "output_type": "stream",
          "text": [
            "11\n"
          ]
        }
      ],
      "source": [
        "text=\"The best revenge is massive success.\"\n",
        "answer_1=text.index(\"v\")\n",
        "print(answer_1)"
      ]
    },
    {
      "cell_type": "markdown",
      "id": "f99dd857-a439-4836-91b2-6dfeb7f22642",
      "metadata": {
        "id": "f99dd857-a439-4836-91b2-6dfeb7f22642"
      },
      "source": [
        "J) Using .find() method, identify the index of character: (m)."
      ]
    },
    {
      "cell_type": "code",
      "execution_count": null,
      "id": "b74be36b-f330-4d1b-8894-6cc163ee075c",
      "metadata": {
        "id": "b74be36b-f330-4d1b-8894-6cc163ee075c",
        "outputId": "92e33d46-2a9f-4470-e860-505694077c45"
      },
      "outputs": [
        {
          "name": "stdout",
          "output_type": "stream",
          "text": [
            "20\n"
          ]
        }
      ],
      "source": [
        "text=\"The best revenge is massive success.\"\n",
        "answer_1=text.find(\"m\")\n",
        "print(answer_1)"
      ]
    },
    {
      "cell_type": "markdown",
      "id": "e3e62c27-fc9f-476f-840f-de0df64a29ce",
      "metadata": {
        "id": "e3e62c27-fc9f-476f-840f-de0df64a29ce"
      },
      "source": [
        "K) Try to see what results you get looking for character: (X). First with .find() method and then with .index() method."
      ]
    },
    {
      "cell_type": "code",
      "execution_count": null,
      "id": "e5ddc134-5d08-49ef-86e5-f598252db386",
      "metadata": {
        "id": "e5ddc134-5d08-49ef-86e5-f598252db386",
        "outputId": "47ea1555-a75d-40b5-ea35-a6b7a9d1bddc"
      },
      "outputs": [
        {
          "name": "stdout",
          "output_type": "stream",
          "text": [
            "-1\n"
          ]
        }
      ],
      "source": [
        "text=\"The best revenge is massive success.\"\n",
        "answer_1=text.find(\"X\")\n",
        "print(answer_1)"
      ]
    },
    {
      "cell_type": "markdown",
      "id": "67ce38d5-ab8e-4b1b-95b1-6b41c092d7b2",
      "metadata": {
        "id": "67ce38d5-ab8e-4b1b-95b1-6b41c092d7b2"
      },
      "source": [
        "L) Which character occur more often in the string? \"a\" or \"o\" ? Print both counts inside the print function."
      ]
    },
    {
      "cell_type": "code",
      "execution_count": null,
      "id": "0c17123c-ed9e-4d7f-9a50-63a7ac551f0d",
      "metadata": {
        "id": "0c17123c-ed9e-4d7f-9a50-63a7ac551f0d",
        "outputId": "46a1eff7-96dd-4fe8-e1be-b15e56832ce1"
      },
      "outputs": [
        {
          "name": "stdout",
          "output_type": "stream",
          "text": [
            "count of a is:  7  count of o is:  7\n"
          ]
        }
      ],
      "source": [
        "text=\"People often say that motivation doesn't last. Well, neither does bathing.  That's why we recommend it daily.\"\n",
        "answer_1=text.count(\"a\")\n",
        "answer_2=text.count(\"o\")\n",
        "print(\"count of a is: \", answer_1, \" count of o is: \", answer_2)"
      ]
    },
    {
      "cell_type": "markdown",
      "id": "caac218c-71c0-4265-8694-f4f02a726efc",
      "metadata": {
        "id": "caac218c-71c0-4265-8694-f4f02a726efc"
      },
      "source": [
        "M) Print the types of two given variables with the print function."
      ]
    },
    {
      "cell_type": "code",
      "execution_count": null,
      "id": "4b6221bc-0710-4d2b-b459-eb447e9bf60c",
      "metadata": {
        "id": "4b6221bc-0710-4d2b-b459-eb447e9bf60c",
        "outputId": "64ab93c3-89ab-4aa1-fae0-b78bc180c7f9"
      },
      "outputs": [
        {
          "name": "stdout",
          "output_type": "stream",
          "text": [
            "<class 'str'>\n",
            "<class 'int'>\n"
          ]
        }
      ],
      "source": [
        "v_1=\"1\"\n",
        "v_2=1\n",
        "\n",
        "answer_1=type(v_1)\n",
        "answer_2=type(v_2)\n",
        "\n",
        "print(answer_1)\n",
        "print(answer_2)"
      ]
    },
    {
      "cell_type": "markdown",
      "id": "9222c43e-210f-4b84-b021-c813228a3d42",
      "metadata": {
        "id": "9222c43e-210f-4b84-b021-c813228a3d42"
      },
      "source": [
        "N) What is the length of the given string?"
      ]
    },
    {
      "cell_type": "code",
      "execution_count": null,
      "id": "427e9abd-bb1f-4d93-999d-f23e49dd9987",
      "metadata": {
        "id": "427e9abd-bb1f-4d93-999d-f23e49dd9987",
        "outputId": "bffc3799-a16e-42d9-f675-27c25169b26b"
      },
      "outputs": [
        {
          "name": "stdout",
          "output_type": "stream",
          "text": [
            "9\n"
          ]
        }
      ],
      "source": [
        "text=\"1.975.000\"\n",
        "answer_1=len(text)\n",
        "print(answer_1)"
      ]
    },
    {
      "cell_type": "markdown",
      "id": "35ce8f23-d97a-41e7-b0d0-88eb69d5dbe9",
      "metadata": {
        "tags": [],
        "id": "35ce8f23-d97a-41e7-b0d0-88eb69d5dbe9"
      },
      "source": [
        "#### 10. .len()"
      ]
    },
    {
      "cell_type": "markdown",
      "id": "5d416198-09f5-4c8a-bf1c-9986e7f54f01",
      "metadata": {
        "id": "5d416198-09f5-4c8a-bf1c-9986e7f54f01"
      },
      "source": [
        "A) Using len() function find out how many items are in the list."
      ]
    },
    {
      "cell_type": "code",
      "execution_count": null,
      "id": "bbb170d5-f70f-4b5a-b82e-e5c5913fd4b0",
      "metadata": {
        "id": "bbb170d5-f70f-4b5a-b82e-e5c5913fd4b0",
        "outputId": "871e148f-8a9b-4c81-db42-cef77be43af9"
      },
      "outputs": [
        {
          "name": "stdout",
          "output_type": "stream",
          "text": [
            "7\n"
          ]
        }
      ],
      "source": [
        "lst=[11, 10, 12, 101, 99, 1000, 999]\n",
        "answer_1=len(lst)\n",
        "print(answer_1)"
      ]
    },
    {
      "cell_type": "markdown",
      "id": "11acad7c-89fd-49f4-a397-1d2f4151d583",
      "metadata": {
        "id": "11acad7c-89fd-49f4-a397-1d2f4151d583"
      },
      "source": [
        "B) len() function can also tell the length of a string. Find out the length of the string given below."
      ]
    },
    {
      "cell_type": "code",
      "execution_count": null,
      "id": "ef259169-608f-414f-ac7a-ff4f1924b838",
      "metadata": {
        "id": "ef259169-608f-414f-ac7a-ff4f1924b838",
        "outputId": "ac388415-2e66-4719-b0e0-cf912167358c"
      },
      "outputs": [
        {
          "name": "stdout",
          "output_type": "stream",
          "text": [
            "36\n"
          ]
        }
      ],
      "source": [
        "msg=\"Be yourself, everyone else is taken.\"\n",
        "msg_length=len(msg)\n",
        "print(msg_length)"
      ]
    },
    {
      "cell_type": "markdown",
      "id": "a0c1aca5-557d-493a-9553-50faa828b3de",
      "metadata": {
        "id": "a0c1aca5-557d-493a-9553-50faa828b3de"
      },
      "source": [
        "C) How many keys are there in the dictionary?"
      ]
    },
    {
      "cell_type": "code",
      "execution_count": null,
      "id": "2181f485-604e-4a79-a335-23e2505f8400",
      "metadata": {
        "id": "2181f485-604e-4a79-a335-23e2505f8400",
        "outputId": "94ff03dd-cc45-4689-f72a-f1399358b6ef"
      },
      "outputs": [
        {
          "name": "stdout",
          "output_type": "stream",
          "text": [
            "5\n"
          ]
        }
      ],
      "source": [
        "scores={\n",
        "    \"Real Madrid\": 13,\n",
        "    \"AC Milan\": 7,\n",
        "    \"Bayern Munich\":5,\n",
        "    \"Barcelona\": 5,\n",
        "    \"Liverpool\": 5\n",
        "}\n",
        "answer_1=len(scores)\n",
        "print(answer_1)"
      ]
    },
    {
      "cell_type": "markdown",
      "id": "80a773ee-248d-4182-9214-a4833e99745c",
      "metadata": {
        "id": "80a773ee-248d-4182-9214-a4833e99745c"
      },
      "source": [
        "D) Call the last element of the list by using the len() function."
      ]
    },
    {
      "cell_type": "code",
      "execution_count": null,
      "id": "d60a0a63-806c-44cb-a8a2-216d21b19115",
      "metadata": {
        "id": "d60a0a63-806c-44cb-a8a2-216d21b19115",
        "outputId": "1e900bfe-02ea-4129-f017-6ee73e35f135"
      },
      "outputs": [
        {
          "name": "stdout",
          "output_type": "stream",
          "text": [
            "jam\n"
          ]
        }
      ],
      "source": [
        "gift_list=['socks', '4K drone', 'wine', 'jam']\n",
        "index_no=len(gift_list)-1\n",
        "answer_1=gift_list[index_no]\n",
        "print(answer_1)"
      ]
    },
    {
      "cell_type": "markdown",
      "id": "21824347-175f-42a2-8af1-c467b9cded55",
      "metadata": {
        "id": "21824347-175f-42a2-8af1-c467b9cded55"
      },
      "source": [
        "E) Below is a nested data. Find out the length of the item: 'raincoat'. You can use reverse indexing."
      ]
    },
    {
      "cell_type": "code",
      "execution_count": null,
      "id": "00be531f-57ce-4886-aac9-6a8ee2c20e19",
      "metadata": {
        "id": "00be531f-57ce-4886-aac9-6a8ee2c20e19",
        "outputId": "c43db3fb-42f2-4579-8f4e-a004da07022f"
      },
      "outputs": [
        {
          "name": "stdout",
          "output_type": "stream",
          "text": [
            "8\n"
          ]
        }
      ],
      "source": [
        "gift_list=['4K drone', 'wine', 'jam', ['socks', 'pajamas', 'raincoat']]\n",
        "answer_1=len(gift_list[-1][-1])\n",
        "print(answer_1)"
      ]
    },
    {
      "cell_type": "markdown",
      "id": "1cfe56ac-2de5-434d-9d9f-aa03e4caa125",
      "metadata": {
        "tags": [],
        "id": "1cfe56ac-2de5-434d-9d9f-aa03e4caa125"
      },
      "source": [
        "#### 11. .sort()"
      ]
    },
    {
      "cell_type": "markdown",
      "id": "850da4a2-ad61-4e65-8202-f24cd1abe5e7",
      "metadata": {
        "id": "850da4a2-ad61-4e65-8202-f24cd1abe5e7"
      },
      "source": [
        "A) Sort the list in ascending order with .sort() method."
      ]
    },
    {
      "cell_type": "code",
      "execution_count": null,
      "id": "16d1e3d1-3082-4251-8ab5-debae5fd2c04",
      "metadata": {
        "id": "16d1e3d1-3082-4251-8ab5-debae5fd2c04",
        "outputId": "11443045-d973-4fe4-aefd-a6d1f23e16ad"
      },
      "outputs": [
        {
          "name": "stdout",
          "output_type": "stream",
          "text": [
            "[11, 99, 100, 999, 1000]\n"
          ]
        }
      ],
      "source": [
        "lst=[11, 100, 99, 1000, 999]\n",
        "lst.sort()\n",
        "print(lst)"
      ]
    },
    {
      "cell_type": "markdown",
      "id": "1b161bc7-60bb-4f6c-9038-8927d5f1b1c3",
      "metadata": {
        "id": "1b161bc7-60bb-4f6c-9038-8927d5f1b1c3"
      },
      "source": [
        "B) This time sort the countries in alphabetic order."
      ]
    },
    {
      "cell_type": "code",
      "execution_count": null,
      "id": "448a9f6a-f74b-4101-af9e-44f7d2714bb7",
      "metadata": {
        "id": "448a9f6a-f74b-4101-af9e-44f7d2714bb7",
        "outputId": "44ff1048-bd86-4d19-e751-07de41cd05dd"
      },
      "outputs": [
        {
          "name": "stdout",
          "output_type": "stream",
          "text": [
            "['Belize', 'Canada', 'India', 'Japan', 'Kazakhstan', 'Taiwan', 'Ukraine']\n"
          ]
        }
      ],
      "source": [
        "lst=[\"Ukraine\", \"Japan\", \"Canada\", \"Kazakhstan\", \"Taiwan\", \"India\", \"Belize\"]\n",
        "lst.sort(reverse = False)\n",
        "print(lst)"
      ]
    },
    {
      "cell_type": "markdown",
      "id": "e2378e0e-d1b8-4373-9670-ff6975360780",
      "metadata": {
        "id": "e2378e0e-d1b8-4373-9670-ff6975360780"
      },
      "source": [
        "C) Now sort the list in descending order with .sort() method."
      ]
    },
    {
      "cell_type": "code",
      "execution_count": null,
      "id": "54804a01-8aa3-4a58-b666-93f403fe46d0",
      "metadata": {
        "id": "54804a01-8aa3-4a58-b666-93f403fe46d0",
        "outputId": "317605db-e92c-4645-ed5d-bf02cfd8c1ee"
      },
      "outputs": [
        {
          "name": "stdout",
          "output_type": "stream",
          "text": [
            "[1001, 999, 101, 100, 11]\n"
          ]
        }
      ],
      "source": [
        "lst=[11, 100, 101, 999, 1001]\n",
        "lst.sort(reverse = True)\n",
        "print(lst)"
      ]
    },
    {
      "cell_type": "markdown",
      "id": "32ffa5ee-9159-4d3c-b27a-1d6d70117de3",
      "metadata": {
        "id": "32ffa5ee-9159-4d3c-b27a-1d6d70117de3"
      },
      "source": [
        "D) Can you sort the gift list in reverse alphabetic order?"
      ]
    },
    {
      "cell_type": "code",
      "execution_count": null,
      "id": "30ade3e1-2b4a-49a1-9cc0-83a01abdb242",
      "metadata": {
        "id": "30ade3e1-2b4a-49a1-9cc0-83a01abdb242",
        "outputId": "b795c359-fd1c-46ca-8a3c-063e3211d725"
      },
      "outputs": [
        {
          "name": "stdout",
          "output_type": "stream",
          "text": [
            "['wine', 'socks', 'jam', '4K drone']\n"
          ]
        }
      ],
      "source": [
        "gift_list=['socks', '4K drone', 'wine', 'jam']\n",
        "gift_list.sort(reverse = True)\n",
        "print(gift_list)"
      ]
    },
    {
      "cell_type": "markdown",
      "id": "0cd23aa6-6742-4465-bb40-8f8c9b7faf33",
      "metadata": {
        "id": "0cd23aa6-6742-4465-bb40-8f8c9b7faf33"
      },
      "source": [
        "E) Sort the list below in reverse alphabetic order and then assign the last element to the answer_1 variable."
      ]
    },
    {
      "cell_type": "code",
      "execution_count": null,
      "id": "20dbea3b-ce08-4477-af90-4f3195df2438",
      "metadata": {
        "id": "20dbea3b-ce08-4477-af90-4f3195df2438",
        "outputId": "a5def0dc-14c0-4065-8209-5adf80070c5b"
      },
      "outputs": [
        {
          "name": "stdout",
          "output_type": "stream",
          "text": [
            "Bears\n"
          ]
        }
      ],
      "source": [
        "NFL=[\"Panthers\", \"Bears\", \"Dolphins\" \"Patriots\", \"Saints\", \"Giants\"]\n",
        "NFL.sort(reverse = True)\n",
        "answer_1 = NFL[-1]\n",
        "print(answer_1)"
      ]
    },
    {
      "cell_type": "markdown",
      "id": "6e7a415d-b7fc-4d41-8cd9-8f2a3d60df8b",
      "metadata": {
        "id": "6e7a415d-b7fc-4d41-8cd9-8f2a3d60df8b"
      },
      "source": [
        "F) Sort the cities from z to a."
      ]
    },
    {
      "cell_type": "code",
      "execution_count": null,
      "id": "971e6f83-fa4a-4e62-87aa-a9b2118d5ade",
      "metadata": {
        "id": "971e6f83-fa4a-4e62-87aa-a9b2118d5ade",
        "outputId": "b0924c79-734a-45f1-e935-a75492509210"
      },
      "outputs": [
        {
          "name": "stdout",
          "output_type": "stream",
          "text": [
            "['Shanghai', 'Moscow', 'Montreal', 'Melbourne', 'Delhi', 'Atlanta']\n"
          ]
        }
      ],
      "source": [
        "muni=[\"Melbourne\", \"Shanghai\", \"Delhi\", \"Atlanta\", \"Moscow\", \"Montreal\"]\n",
        "muni.sort(reverse = True)\n",
        "print(muni)"
      ]
    },
    {
      "cell_type": "markdown",
      "id": "fd3fa4ba-2844-4f62-bcae-33f2dae84302",
      "metadata": {
        "id": "fd3fa4ba-2844-4f62-bcae-33f2dae84302"
      },
      "source": [
        "G) Sort the keys of the dictionary from a to z.\n",
        "Hint: You might want to create a list of the keys first with the help of a dictionary method."
      ]
    },
    {
      "cell_type": "code",
      "execution_count": null,
      "id": "3815feec-1a93-4afc-93a2-9c2e528153b5",
      "metadata": {
        "id": "3815feec-1a93-4afc-93a2-9c2e528153b5",
        "outputId": "9eea1010-4614-4bc5-8079-e32e85710ecc"
      },
      "outputs": [
        {
          "name": "stdout",
          "output_type": "stream",
          "text": [
            "['cheesecake', 'chocolate', 'pudding', 'tiramisu']\n"
          ]
        }
      ],
      "source": [
        "prices={\n",
        "    \"tiramisu\":5,\n",
        "    \"chocolate\":2,\n",
        "    \"pudding\":3,\n",
        "    \"cheesecake\":4\n",
        "}\n",
        "key_list = list(prices.keys())\n",
        "key_list.sort()\n",
        "print(key_list)"
      ]
    },
    {
      "cell_type": "markdown",
      "id": "f9b878ed-cf29-4481-95e9-807db1b90bb6",
      "metadata": {
        "tags": [],
        "id": "f9b878ed-cf29-4481-95e9-807db1b90bb6"
      },
      "source": [
        "#### 12 .pop()"
      ]
    },
    {
      "cell_type": "markdown",
      "id": "d3d979eb-de45-4497-b282-00624cd471a8",
      "metadata": {
        "id": "d3d979eb-de45-4497-b282-00624cd471a8"
      },
      "source": [
        "A) Pop the last item of the list below."
      ]
    },
    {
      "cell_type": "code",
      "execution_count": null,
      "id": "edc28209-eb1a-4b66-8164-efce7e27bf43",
      "metadata": {
        "id": "edc28209-eb1a-4b66-8164-efce7e27bf43",
        "outputId": "795105af-12ab-4980-bb52-0dbdb83f3d82"
      },
      "outputs": [
        {
          "name": "stdout",
          "output_type": "stream",
          "text": [
            "999\n",
            "[11, 100, 99, 1000]\n"
          ]
        }
      ],
      "source": [
        "lst=[11, 100, 99, 1000, 999]\n",
        "popped_item=lst.pop()\n",
        "print(popped_item)\n",
        "print(lst)"
      ]
    },
    {
      "cell_type": "markdown",
      "id": "4e63c187-3e7e-47c0-b343-1999066620bc",
      "metadata": {
        "id": "4e63c187-3e7e-47c0-b343-1999066620bc"
      },
      "source": [
        "B) Remove \"broccoli\" from the list using .pop and .index methods."
      ]
    },
    {
      "cell_type": "code",
      "execution_count": null,
      "id": "3a4bf2d2-0aa2-44e9-8174-7c9933dd60d3",
      "metadata": {
        "id": "3a4bf2d2-0aa2-44e9-8174-7c9933dd60d3",
        "outputId": "fb2d381a-b53b-4a6d-d7f5-4aa08b494132"
      },
      "outputs": [
        {
          "name": "stdout",
          "output_type": "stream",
          "text": [
            "['milk', 'banana', 'eggs', 'bread', 'lemons'] broccoli\n"
          ]
        }
      ],
      "source": [
        "lst=[\"milk\", \"banana\", \"eggs\", \"bread\", \"broccoli\", \"lemons\"]\n",
        "a=lst.index(\"broccoli\")\n",
        "item=lst.pop(a)\n",
        "print(lst, item)"
      ]
    },
    {
      "cell_type": "markdown",
      "id": "d08221a0-8c04-431f-9b4a-5d615bb83b86",
      "metadata": {
        "id": "d08221a0-8c04-431f-9b4a-5d615bb83b86"
      },
      "source": [
        "C) Save Italy's GDP in a separate variable and remove it from the dictionary."
      ]
    },
    {
      "cell_type": "code",
      "execution_count": null,
      "id": "48b1a636-b61a-4673-bfed-f4601a08d8c6",
      "metadata": {
        "id": "48b1a636-b61a-4673-bfed-f4601a08d8c6",
        "outputId": "8233aa3a-a36c-4685-8a6e-9b5d8d601ee4"
      },
      "outputs": [
        {
          "name": "stdout",
          "output_type": "stream",
          "text": [
            "{'US': 21, 'China': 16, 'Japan': 5, 'Germany': 4, 'India': 3, 'France': 3, 'UK': 3}\n",
            "2 trillion USD\n"
          ]
        }
      ],
      "source": [
        "GDP_2018={\n",
        "    \"US\": 21,\n",
        "    \"China\": 16,\n",
        "    \"Japan\": 5,\n",
        "    \"Germany\": 4,\n",
        "    \"India\": 3,\n",
        "    \"France\": 3,\n",
        "    \"UK\": 3,\n",
        "    \"Italy\": 2\n",
        "}\n",
        "italy_gdp=GDP_2018.pop(\"Italy\")\n",
        "print(GDP_2018)\n",
        "print(italy_gdp, \"trillion USD\")"
      ]
    },
    {
      "cell_type": "markdown",
      "id": "8e51c751-54df-4e86-80dc-f921e7684af1",
      "metadata": {
        "tags": [],
        "id": "8e51c751-54df-4e86-80dc-f921e7684af1"
      },
      "source": [
        "#### 13. range()"
      ]
    },
    {
      "cell_type": "markdown",
      "id": "6d39f207-b0f7-4318-9eaa-cf98acb6047f",
      "metadata": {
        "id": "6d39f207-b0f7-4318-9eaa-cf98acb6047f"
      },
      "source": [
        "A) Create a range from 0 to 50, excluding 50."
      ]
    },
    {
      "cell_type": "code",
      "execution_count": null,
      "id": "efd6f600-456b-44f2-8d6f-1db13ab25a52",
      "metadata": {
        "id": "efd6f600-456b-44f2-8d6f-1db13ab25a52",
        "outputId": "2958519f-e632-4331-ec6b-48032dbb3ae2"
      },
      "outputs": [
        {
          "name": "stdout",
          "output_type": "stream",
          "text": [
            "range(0, 50)\n"
          ]
        }
      ],
      "source": [
        "rng=range(0,50)\n",
        "print(rng)"
      ]
    },
    {
      "cell_type": "markdown",
      "id": "c13f6330-dbbb-4962-8114-80372a026ee6",
      "metadata": {
        "id": "c13f6330-dbbb-4962-8114-80372a026ee6"
      },
      "source": [
        "B) Create a range from 0 to 10 with steps of 2."
      ]
    },
    {
      "cell_type": "code",
      "execution_count": null,
      "id": "08423ad7-c1f9-4e92-9710-07f754f05b82",
      "metadata": {
        "id": "08423ad7-c1f9-4e92-9710-07f754f05b82",
        "outputId": "3fae7082-7800-4b84-ccf6-1e5415479c95"
      },
      "outputs": [
        {
          "name": "stdout",
          "output_type": "stream",
          "text": [
            "[0, 2, 4, 6, 8]\n"
          ]
        }
      ],
      "source": [
        "rng=range(0,10,2)\n",
        "print(list(rng))"
      ]
    },
    {
      "cell_type": "markdown",
      "id": "8ce94bd9-8ba6-4c56-889b-32faf6cde759",
      "metadata": {
        "id": "8ce94bd9-8ba6-4c56-889b-32faf6cde759"
      },
      "source": [
        "C) Create a range from 100 to 160 with steps of 10. Then print it as a list."
      ]
    },
    {
      "cell_type": "code",
      "execution_count": null,
      "id": "dd94b066-f938-4580-9720-4018dbb7cabb",
      "metadata": {
        "id": "dd94b066-f938-4580-9720-4018dbb7cabb",
        "outputId": "6345b72a-b02e-4b15-90e7-1c2504c2647a"
      },
      "outputs": [
        {
          "name": "stdout",
          "output_type": "stream",
          "text": [
            "[100, 110, 120, 130, 140, 150]\n"
          ]
        }
      ],
      "source": [
        "rng=range(100,160,10)\n",
        "print(list(rng))"
      ]
    },
    {
      "cell_type": "markdown",
      "id": "6792e90b-e717-470e-bae3-8c4f5481cfe8",
      "metadata": {
        "id": "6792e90b-e717-470e-bae3-8c4f5481cfe8"
      },
      "source": [
        "D) Can you you create a list from 1300 to 700 with descending steps of 100? Is your stop value included in the list?"
      ]
    },
    {
      "cell_type": "code",
      "execution_count": null,
      "id": "f106f0fd-bbdf-47ae-a177-3087aa9371ec",
      "metadata": {
        "id": "f106f0fd-bbdf-47ae-a177-3087aa9371ec",
        "outputId": "9dbcef2c-0f68-4776-e528-43806af1225a"
      },
      "outputs": [
        {
          "name": "stdout",
          "output_type": "stream",
          "text": [
            "[1300, 1200, 1100, 1000, 900, 800]\n"
          ]
        }
      ],
      "source": [
        "rng=range(1300,700,-100)\n",
        "print(list(rng))"
      ]
    },
    {
      "cell_type": "markdown",
      "id": "6293ba12-b04a-4c2e-a619-b1f3a009238e",
      "metadata": {
        "id": "6293ba12-b04a-4c2e-a619-b1f3a009238e"
      },
      "source": [
        "E) Can you you create a list from 1300 to 700 with descending steps of 100, this time including 700?"
      ]
    },
    {
      "cell_type": "code",
      "execution_count": null,
      "id": "7fdcc9e4-2fec-44dc-a8ae-7ba143778700",
      "metadata": {
        "id": "7fdcc9e4-2fec-44dc-a8ae-7ba143778700",
        "outputId": "d41f35e6-e7c6-4ba5-ad38-d99e0e9033f9"
      },
      "outputs": [
        {
          "name": "stdout",
          "output_type": "stream",
          "text": [
            "[1300, 1200, 1100, 1000, 900, 800, 700]\n"
          ]
        }
      ],
      "source": [
        "rng=range(1300,699,-100)\n",
        "print(list(rng))"
      ]
    }
  ],
  "metadata": {
    "kernelspec": {
      "display_name": "Python 3 (ipykernel)",
      "language": "python",
      "name": "python3"
    },
    "language_info": {
      "codemirror_mode": {
        "name": "ipython",
        "version": 3
      },
      "file_extension": ".py",
      "mimetype": "text/x-python",
      "name": "python",
      "nbconvert_exporter": "python",
      "pygments_lexer": "ipython3",
      "version": "3.10.6"
    },
    "colab": {
      "provenance": [],
      "include_colab_link": true
    }
  },
  "nbformat": 4,
  "nbformat_minor": 5
}