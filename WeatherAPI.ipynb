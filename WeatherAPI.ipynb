{
 "cells": [
  {
   "cell_type": "code",
   "execution_count": 65,
   "id": "857dada9",
   "metadata": {},
   "outputs": [],
   "source": [
    "#import libraries\n",
    "\n",
    "import requests\n",
    "import datetime as dt"
   ]
  },
  {
   "cell_type": "code",
   "execution_count": 66,
   "id": "09a961f3",
   "metadata": {},
   "outputs": [],
   "source": [
    "#Global declarations\n",
    "\n",
    "BASE_URL = \"https://api.openweathermap.org/data/2.5/weather?\"\n",
    "apikey = open(\"api_key.txt\",\"r\").read()"
   ]
  },
  {
   "cell_type": "code",
   "execution_count": 72,
   "id": "cadfce05",
   "metadata": {},
   "outputs": [
    {
     "name": "stdout",
     "output_type": "stream",
     "text": [
      "Enter city name: Aarhus\n",
      "Do you want to see the temperature in Celsius or in Farenheit?: Celsius\n"
     ]
    }
   ],
   "source": [
    "# User input\n",
    "city = input(\"Enter city name: \")\n",
    "temp_unit = input(\"Do you want to see the temperature in Celsius or in Farenheit?: \")"
   ]
  },
  {
   "cell_type": "code",
   "execution_count": 73,
   "id": "e33ccd62",
   "metadata": {},
   "outputs": [],
   "source": [
    "# Function to convert Temperature Unit from Kelvin to Celsius or Farenheit\n",
    "def kelvin_to_celsius(kelvin,temp_unit):\n",
    "    temp_cl = kelvin - 273.15\n",
    "    temp_fh = temp_cl * (9/5) + 32\n",
    "    if temp_unit == \"Celsius\":\n",
    "        return temp_cl\n",
    "    else:\n",
    "        return temp_fh "
   ]
  },
  {
   "cell_type": "code",
   "execution_count": 74,
   "id": "3dc3449f",
   "metadata": {},
   "outputs": [],
   "source": [
    "final_url = BASE_URL + \"appid=\" + apikey + \"&q=\" + city\n",
    "resp = requests.get(final_url).json()\n",
    "if temp_unit == \"Celsius\":\n",
    "    temperature_unit = \"°C\"\n",
    "else:\n",
    "    temperature_unit = \"°F\"\n",
    "temp_val = resp['main']['temp']\n",
    "temp_feelsval = resp['main']['feels_like']\n",
    "weather_temperature = kelvin_to_celsius(temp_val,temp_unit)\n",
    "weather_feelsLike = kelvin_to_celsius(temp_feelsval,temp_unit)\n",
    "weather_desc = resp['weather'][0]['description']\n",
    "weather_wind = resp['wind']['speed']\n",
    "weather_country = resp['sys']['country']\n",
    "weather_sunrise = dt.datetime.utcfromtimestamp(resp['sys']['sunrise'] + resp['timezone'])\n",
    "weather_sunset = dt.datetime.utcfromtimestamp(resp['sys']['sunset'] + resp['timezone'])"
   ]
  },
  {
   "cell_type": "code",
   "execution_count": 75,
   "id": "795842c5",
   "metadata": {},
   "outputs": [
    {
     "name": "stdout",
     "output_type": "stream",
     "text": [
      "=========Temperature Details in Aarhus of DK=========\n",
      "Weather: light rain\n",
      "Temparature: 14.81 °C\n",
      "Feels Like: 14.49 °C\n",
      "Wind Speed: 12.85 m/s\n",
      "Sunrise Time: 2023-08-07 05:33:02\n",
      "Sunset Time: 2023-08-07 21:16:57\n"
     ]
    }
   ],
   "source": [
    "#Printing the Weather conditions of the given city\n",
    "print(f\"=========Temperature Details in {city} of {weather_country}=========\")\n",
    "print(f\"Weather: {weather_desc}\")\n",
    "print(f\"Temparature: {weather_temperature:.2f} {temperature_unit}\")\n",
    "print(f\"Feels Like: {weather_feelsLike:.2f} {temperature_unit}\")\n",
    "print(f\"Wind Speed: {weather_wind} m/s\")\n",
    "print(f\"Sunrise Time: {weather_sunrise}\")\n",
    "print(f\"Sunset Time: {weather_sunset}\")"
   ]
  },
  {
   "cell_type": "code",
   "execution_count": null,
   "id": "4f280f44",
   "metadata": {},
   "outputs": [],
   "source": []
  },
  {
   "cell_type": "code",
   "execution_count": null,
   "id": "2737a09f",
   "metadata": {},
   "outputs": [],
   "source": []
  },
  {
   "cell_type": "code",
   "execution_count": null,
   "id": "fe5d87b8",
   "metadata": {},
   "outputs": [],
   "source": []
  },
  {
   "cell_type": "code",
   "execution_count": null,
   "id": "1d85949b",
   "metadata": {},
   "outputs": [],
   "source": []
  },
  {
   "cell_type": "code",
   "execution_count": null,
   "id": "459e1f82",
   "metadata": {},
   "outputs": [],
   "source": []
  },
  {
   "cell_type": "code",
   "execution_count": null,
   "id": "b196a019",
   "metadata": {},
   "outputs": [],
   "source": []
  },
  {
   "cell_type": "code",
   "execution_count": null,
   "id": "7b69a47a",
   "metadata": {},
   "outputs": [],
   "source": []
  },
  {
   "cell_type": "code",
   "execution_count": null,
   "id": "ce2a7398",
   "metadata": {},
   "outputs": [],
   "source": []
  },
  {
   "cell_type": "code",
   "execution_count": null,
   "id": "fe01ad3a",
   "metadata": {},
   "outputs": [],
   "source": []
  },
  {
   "cell_type": "code",
   "execution_count": null,
   "id": "1378bc37",
   "metadata": {},
   "outputs": [],
   "source": []
  }
 ],
 "metadata": {
  "kernelspec": {
   "display_name": "Python 3 (ipykernel)",
   "language": "python",
   "name": "python3"
  },
  "language_info": {
   "codemirror_mode": {
    "name": "ipython",
    "version": 3
   },
   "file_extension": ".py",
   "mimetype": "text/x-python",
   "name": "python",
   "nbconvert_exporter": "python",
   "pygments_lexer": "ipython3",
   "version": "3.9.7"
  }
 },
 "nbformat": 4,
 "nbformat_minor": 5
}
