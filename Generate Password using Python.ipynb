{
 "cells": [
  {
   "cell_type": "code",
   "execution_count": 60,
   "id": "b9cd3c40",
   "metadata": {},
   "outputs": [
    {
     "name": "stdout",
     "output_type": "stream",
     "text": [
      "Enter the length of the password: 7\n",
      "Generated Password: tqMt9!4\n"
     ]
    }
   ],
   "source": [
    "import random\n",
    "import string\n",
    "\n",
    "passlen = int(input(\"Enter the length of the password: \"))\n",
    "\n",
    "if passlen < 4:\n",
    "    print(\"Password length must be at least 4 characters.\")\n",
    "else:\n",
    "    uppercase_letter = random.choice(string.ascii_uppercase)\n",
    "    lowercase_letters = random.choices(string.ascii_lowercase, k=passlen - 4)\n",
    "    special_character = random.choice(\"!@#$%^&*()?\")\n",
    "    digits = random.choices(string.digits, k=2)\n",
    "\n",
    "    password_list = [uppercase_letter] + lowercase_letters + [special_character] + digits\n",
    "    random.shuffle(password_list)\n",
    "    password = ''.join(password_list)\n",
    "\n",
    "    print(\"Generated Password:\", password)\n",
    "\n",
    "\n"
   ]
  },
  {
   "cell_type": "code",
   "execution_count": null,
   "id": "3377b633",
   "metadata": {},
   "outputs": [],
   "source": [
    "\n",
    "\n"
   ]
  },
  {
   "cell_type": "code",
   "execution_count": null,
   "id": "f5e0e7f7",
   "metadata": {},
   "outputs": [],
   "source": [
    "\n"
   ]
  },
  {
   "cell_type": "code",
   "execution_count": null,
   "id": "f260e925",
   "metadata": {},
   "outputs": [],
   "source": []
  }
 ],
 "metadata": {
  "kernelspec": {
   "display_name": "Python 3 (ipykernel)",
   "language": "python",
   "name": "python3"
  },
  "language_info": {
   "codemirror_mode": {
    "name": "ipython",
    "version": 3
   },
   "file_extension": ".py",
   "mimetype": "text/x-python",
   "name": "python",
   "nbconvert_exporter": "python",
   "pygments_lexer": "ipython3",
   "version": "3.9.7"
  }
 },
 "nbformat": 4,
 "nbformat_minor": 5
}
